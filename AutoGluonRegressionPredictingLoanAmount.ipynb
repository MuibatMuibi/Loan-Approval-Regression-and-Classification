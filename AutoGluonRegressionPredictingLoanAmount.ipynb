{
 "cells": [
  {
   "cell_type": "code",
   "execution_count": 33,
   "id": "73d9c5ef-c28a-40e0-9b9a-8dd4ec0c72dd",
   "metadata": {},
   "outputs": [
    {
     "name": "stdout",
     "output_type": "stream",
     "text": [
      "Requirement already satisfied: autogluon in c:\\users\\mmuib\\anaconda3\\lib\\site-packages (1.2)\n",
      "Requirement already satisfied: autogluon.core==1.2 in c:\\users\\mmuib\\anaconda3\\lib\\site-packages (from autogluon.core[all]==1.2->autogluon) (1.2)\n",
      "Requirement already satisfied: autogluon.features==1.2 in c:\\users\\mmuib\\anaconda3\\lib\\site-packages (from autogluon) (1.2)\n",
      "Requirement already satisfied: autogluon.tabular==1.2 in c:\\users\\mmuib\\anaconda3\\lib\\site-packages (from autogluon.tabular[all]==1.2->autogluon) (1.2)\n",
      "Requirement already satisfied: autogluon.multimodal==1.2 in c:\\users\\mmuib\\anaconda3\\lib\\site-packages (from autogluon) (1.2)\n",
      "Requirement already satisfied: autogluon.timeseries==1.2 in c:\\users\\mmuib\\anaconda3\\lib\\site-packages (from autogluon.timeseries[all]==1.2->autogluon) (1.2)\n",
      "Requirement already satisfied: numpy<2.1.4,>=1.25.0 in c:\\users\\mmuib\\anaconda3\\lib\\site-packages (from autogluon.core==1.2->autogluon.core[all]==1.2->autogluon) (1.26.4)\n",
      "Requirement already satisfied: scipy<1.16,>=1.5.4 in c:\\users\\mmuib\\anaconda3\\lib\\site-packages (from autogluon.core==1.2->autogluon.core[all]==1.2->autogluon) (1.13.1)\n",
      "Requirement already satisfied: scikit-learn<1.5.3,>=1.4.0 in c:\\users\\mmuib\\anaconda3\\lib\\site-packages (from autogluon.core==1.2->autogluon.core[all]==1.2->autogluon) (1.4.2)\n",
      "Requirement already satisfied: networkx<4,>=3.0 in c:\\users\\mmuib\\anaconda3\\lib\\site-packages (from autogluon.core==1.2->autogluon.core[all]==1.2->autogluon) (3.2.1)\n",
      "Requirement already satisfied: pandas<2.3.0,>=2.0.0 in c:\\users\\mmuib\\anaconda3\\lib\\site-packages (from autogluon.core==1.2->autogluon.core[all]==1.2->autogluon) (2.2.2)\n",
      "Requirement already satisfied: tqdm<5,>=4.38 in c:\\users\\mmuib\\anaconda3\\lib\\site-packages (from autogluon.core==1.2->autogluon.core[all]==1.2->autogluon) (4.66.4)\n",
      "Requirement already satisfied: requests in c:\\users\\mmuib\\anaconda3\\lib\\site-packages (from autogluon.core==1.2->autogluon.core[all]==1.2->autogluon) (2.32.2)\n",
      "Requirement already satisfied: matplotlib<3.11,>=3.7.0 in c:\\users\\mmuib\\anaconda3\\lib\\site-packages (from autogluon.core==1.2->autogluon.core[all]==1.2->autogluon) (3.8.4)\n",
      "Requirement already satisfied: boto3<2,>=1.10 in c:\\users\\mmuib\\anaconda3\\lib\\site-packages (from autogluon.core==1.2->autogluon.core[all]==1.2->autogluon) (1.37.33)\n",
      "Requirement already satisfied: autogluon.common==1.2 in c:\\users\\mmuib\\anaconda3\\lib\\site-packages (from autogluon.core==1.2->autogluon.core[all]==1.2->autogluon) (1.2)\n",
      "Requirement already satisfied: ray<2.40,>=2.10.0 in c:\\users\\mmuib\\anaconda3\\lib\\site-packages (from ray[default]<2.40,>=2.10.0; extra == \"all\"->autogluon.core[all]==1.2->autogluon) (2.39.0)\n",
      "Requirement already satisfied: pyarrow>=15.0.0 in c:\\users\\mmuib\\anaconda3\\lib\\site-packages (from autogluon.core[all]==1.2->autogluon) (19.0.1)\n",
      "Requirement already satisfied: hyperopt<0.2.8,>=0.2.7 in c:\\users\\mmuib\\anaconda3\\lib\\site-packages (from autogluon.core[all]==1.2->autogluon) (0.2.7)\n",
      "Requirement already satisfied: Pillow<12,>=10.0.1 in c:\\users\\mmuib\\anaconda3\\lib\\site-packages (from autogluon.multimodal==1.2->autogluon) (10.3.0)\n",
      "Requirement already satisfied: torch<2.6,>=2.2 in c:\\users\\mmuib\\anaconda3\\lib\\site-packages (from autogluon.multimodal==1.2->autogluon) (2.5.1)\n",
      "Requirement already satisfied: lightning<2.6,>=2.2 in c:\\users\\mmuib\\anaconda3\\lib\\site-packages (from autogluon.multimodal==1.2->autogluon) (2.5.1)\n",
      "Requirement already satisfied: transformers<5,>=4.38.0 in c:\\users\\mmuib\\anaconda3\\lib\\site-packages (from transformers[sentencepiece]<5,>=4.38.0->autogluon.multimodal==1.2->autogluon) (4.51.2)\n",
      "Requirement already satisfied: accelerate<1.0,>=0.34.0 in c:\\users\\mmuib\\anaconda3\\lib\\site-packages (from autogluon.multimodal==1.2->autogluon) (0.34.2)\n",
      "Requirement already satisfied: jsonschema<4.22,>=4.18 in c:\\users\\mmuib\\anaconda3\\lib\\site-packages (from autogluon.multimodal==1.2->autogluon) (4.19.2)\n",
      "Requirement already satisfied: seqeval<1.3.0,>=1.2.2 in c:\\users\\mmuib\\anaconda3\\lib\\site-packages (from autogluon.multimodal==1.2->autogluon) (1.2.2)\n",
      "Requirement already satisfied: evaluate<0.5.0,>=0.4.0 in c:\\users\\mmuib\\anaconda3\\lib\\site-packages (from autogluon.multimodal==1.2->autogluon) (0.4.3)\n",
      "Requirement already satisfied: timm<1.0.7,>=0.9.5 in c:\\users\\mmuib\\anaconda3\\lib\\site-packages (from autogluon.multimodal==1.2->autogluon) (1.0.3)\n",
      "Requirement already satisfied: torchvision<0.21.0,>=0.16.0 in c:\\users\\mmuib\\anaconda3\\lib\\site-packages (from autogluon.multimodal==1.2->autogluon) (0.20.1)\n",
      "Requirement already satisfied: scikit-image<0.25.0,>=0.19.1 in c:\\users\\mmuib\\anaconda3\\lib\\site-packages (from autogluon.multimodal==1.2->autogluon) (0.23.2)\n",
      "Requirement already satisfied: text-unidecode<1.4,>=1.3 in c:\\users\\mmuib\\anaconda3\\lib\\site-packages (from autogluon.multimodal==1.2->autogluon) (1.3)\n",
      "Requirement already satisfied: torchmetrics<1.3.0,>=1.2.0 in c:\\users\\mmuib\\anaconda3\\lib\\site-packages (from autogluon.multimodal==1.2->autogluon) (1.2.1)\n",
      "Requirement already satisfied: omegaconf<2.3.0,>=2.1.1 in c:\\users\\mmuib\\anaconda3\\lib\\site-packages (from autogluon.multimodal==1.2->autogluon) (2.2.3)\n",
      "Requirement already satisfied: pytorch-metric-learning<2.4,>=1.3.0 in c:\\users\\mmuib\\anaconda3\\lib\\site-packages (from autogluon.multimodal==1.2->autogluon) (2.3.0)\n",
      "Requirement already satisfied: nlpaug<1.2.0,>=1.1.10 in c:\\users\\mmuib\\anaconda3\\lib\\site-packages (from autogluon.multimodal==1.2->autogluon) (1.1.11)\n",
      "Requirement already satisfied: nltk<3.9,>=3.4.5 in c:\\users\\mmuib\\anaconda3\\lib\\site-packages (from autogluon.multimodal==1.2->autogluon) (3.8.1)\n",
      "Requirement already satisfied: openmim<0.4.0,>=0.3.7 in c:\\users\\mmuib\\anaconda3\\lib\\site-packages (from autogluon.multimodal==1.2->autogluon) (0.3.9)\n",
      "Requirement already satisfied: defusedxml<0.7.2,>=0.7.1 in c:\\users\\mmuib\\anaconda3\\lib\\site-packages (from autogluon.multimodal==1.2->autogluon) (0.7.1)\n",
      "Requirement already satisfied: jinja2<3.2,>=3.0.3 in c:\\users\\mmuib\\anaconda3\\lib\\site-packages (from autogluon.multimodal==1.2->autogluon) (3.1.4)\n",
      "Requirement already satisfied: tensorboard<3,>=2.9 in c:\\users\\mmuib\\anaconda3\\lib\\site-packages (from autogluon.multimodal==1.2->autogluon) (2.19.0)\n",
      "Requirement already satisfied: pytesseract<0.3.11,>=0.3.9 in c:\\users\\mmuib\\anaconda3\\lib\\site-packages (from autogluon.multimodal==1.2->autogluon) (0.3.10)\n",
      "Requirement already satisfied: nvidia-ml-py3==7.352.0 in c:\\users\\mmuib\\anaconda3\\lib\\site-packages (from autogluon.multimodal==1.2->autogluon) (7.352.0)\n",
      "Requirement already satisfied: pdf2image<1.19,>=1.17.0 in c:\\users\\mmuib\\anaconda3\\lib\\site-packages (from autogluon.multimodal==1.2->autogluon) (1.17.0)\n",
      "Requirement already satisfied: catboost<1.3,>=1.2 in c:\\users\\mmuib\\anaconda3\\lib\\site-packages (from autogluon.tabular[all]==1.2->autogluon) (1.2.8)\n",
      "Requirement already satisfied: spacy<3.8 in c:\\users\\mmuib\\anaconda3\\lib\\site-packages (from autogluon.tabular[all]==1.2->autogluon) (3.7.5)\n",
      "Requirement already satisfied: lightgbm<4.6,>=4.0 in c:\\users\\mmuib\\anaconda3\\lib\\site-packages (from autogluon.tabular[all]==1.2->autogluon) (4.5.0)\n",
      "Requirement already satisfied: einops<0.9,>=0.7 in c:\\users\\mmuib\\anaconda3\\lib\\site-packages (from autogluon.tabular[all]==1.2->autogluon) (0.8.1)\n",
      "Requirement already satisfied: xgboost<2.2,>=1.6 in c:\\users\\mmuib\\anaconda3\\lib\\site-packages (from autogluon.tabular[all]==1.2->autogluon) (2.1.4)\n",
      "Requirement already satisfied: fastai<2.8,>=2.3.1 in c:\\users\\mmuib\\anaconda3\\lib\\site-packages (from autogluon.tabular[all]==1.2->autogluon) (2.7.19)\n",
      "Requirement already satisfied: huggingface-hub[torch] in c:\\users\\mmuib\\anaconda3\\lib\\site-packages (from autogluon.tabular[all]==1.2->autogluon) (0.30.2)\n",
      "Requirement already satisfied: joblib<2,>=1.1 in c:\\users\\mmuib\\anaconda3\\lib\\site-packages (from autogluon.timeseries==1.2->autogluon.timeseries[all]==1.2->autogluon) (1.4.2)\n",
      "Requirement already satisfied: pytorch-lightning in c:\\users\\mmuib\\anaconda3\\lib\\site-packages (from autogluon.timeseries==1.2->autogluon.timeseries[all]==1.2->autogluon) (2.5.1)\n",
      "Requirement already satisfied: gluonts<0.17,>=0.15.0 in c:\\users\\mmuib\\anaconda3\\lib\\site-packages (from autogluon.timeseries==1.2->autogluon.timeseries[all]==1.2->autogluon) (0.16.1)\n",
      "Requirement already satisfied: statsforecast<1.8,>=1.7.0 in c:\\users\\mmuib\\anaconda3\\lib\\site-packages (from autogluon.timeseries==1.2->autogluon.timeseries[all]==1.2->autogluon) (1.7.8)\n",
      "Requirement already satisfied: mlforecast==0.13.4 in c:\\users\\mmuib\\anaconda3\\lib\\site-packages (from autogluon.timeseries==1.2->autogluon.timeseries[all]==1.2->autogluon) (0.13.4)\n",
      "Requirement already satisfied: utilsforecast<0.2.5,>=0.2.3 in c:\\users\\mmuib\\anaconda3\\lib\\site-packages (from autogluon.timeseries==1.2->autogluon.timeseries[all]==1.2->autogluon) (0.2.4)\n",
      "Requirement already satisfied: coreforecast==0.0.12 in c:\\users\\mmuib\\anaconda3\\lib\\site-packages (from autogluon.timeseries==1.2->autogluon.timeseries[all]==1.2->autogluon) (0.0.12)\n",
      "Requirement already satisfied: fugue>=0.9.0 in c:\\users\\mmuib\\anaconda3\\lib\\site-packages (from autogluon.timeseries==1.2->autogluon.timeseries[all]==1.2->autogluon) (0.9.1)\n",
      "Requirement already satisfied: orjson~=3.9 in c:\\users\\mmuib\\anaconda3\\lib\\site-packages (from autogluon.timeseries==1.2->autogluon.timeseries[all]==1.2->autogluon) (3.10.16)\n",
      "Requirement already satisfied: psutil<7.0.0,>=5.7.3 in c:\\users\\mmuib\\anaconda3\\lib\\site-packages (from autogluon.common==1.2->autogluon.core==1.2->autogluon.core[all]==1.2->autogluon) (5.9.0)\n",
      "Requirement already satisfied: cloudpickle in c:\\users\\mmuib\\anaconda3\\lib\\site-packages (from mlforecast==0.13.4->autogluon.timeseries==1.2->autogluon.timeseries[all]==1.2->autogluon) (2.2.1)\n",
      "Requirement already satisfied: fsspec in c:\\users\\mmuib\\anaconda3\\lib\\site-packages (from mlforecast==0.13.4->autogluon.timeseries==1.2->autogluon.timeseries[all]==1.2->autogluon) (2024.3.1)\n",
      "Requirement already satisfied: numba in c:\\users\\mmuib\\anaconda3\\lib\\site-packages (from mlforecast==0.13.4->autogluon.timeseries==1.2->autogluon.timeseries[all]==1.2->autogluon) (0.59.1)\n",
      "Requirement already satisfied: optuna in c:\\users\\mmuib\\anaconda3\\lib\\site-packages (from mlforecast==0.13.4->autogluon.timeseries==1.2->autogluon.timeseries[all]==1.2->autogluon) (4.2.1)\n",
      "Requirement already satisfied: packaging in c:\\users\\mmuib\\anaconda3\\lib\\site-packages (from mlforecast==0.13.4->autogluon.timeseries==1.2->autogluon.timeseries[all]==1.2->autogluon) (23.2)\n",
      "Requirement already satisfied: window-ops in c:\\users\\mmuib\\anaconda3\\lib\\site-packages (from mlforecast==0.13.4->autogluon.timeseries==1.2->autogluon.timeseries[all]==1.2->autogluon) (0.0.15)\n",
      "Requirement already satisfied: pyyaml in c:\\users\\mmuib\\anaconda3\\lib\\site-packages (from accelerate<1.0,>=0.34.0->autogluon.multimodal==1.2->autogluon) (6.0.1)\n",
      "Requirement already satisfied: safetensors>=0.4.3 in c:\\users\\mmuib\\anaconda3\\lib\\site-packages (from accelerate<1.0,>=0.34.0->autogluon.multimodal==1.2->autogluon) (0.5.3)\n",
      "Requirement already satisfied: botocore<1.38.0,>=1.37.33 in c:\\users\\mmuib\\anaconda3\\lib\\site-packages (from boto3<2,>=1.10->autogluon.core==1.2->autogluon.core[all]==1.2->autogluon) (1.37.33)\n",
      "Requirement already satisfied: jmespath<2.0.0,>=0.7.1 in c:\\users\\mmuib\\anaconda3\\lib\\site-packages (from boto3<2,>=1.10->autogluon.core==1.2->autogluon.core[all]==1.2->autogluon) (1.0.1)\n",
      "Requirement already satisfied: s3transfer<0.12.0,>=0.11.0 in c:\\users\\mmuib\\anaconda3\\lib\\site-packages (from boto3<2,>=1.10->autogluon.core==1.2->autogluon.core[all]==1.2->autogluon) (0.11.4)\n",
      "Requirement already satisfied: graphviz in c:\\users\\mmuib\\anaconda3\\lib\\site-packages (from catboost<1.3,>=1.2->autogluon.tabular[all]==1.2->autogluon) (0.20.3)\n",
      "Requirement already satisfied: plotly in c:\\users\\mmuib\\anaconda3\\lib\\site-packages (from catboost<1.3,>=1.2->autogluon.tabular[all]==1.2->autogluon) (5.22.0)\n",
      "Requirement already satisfied: six in c:\\users\\mmuib\\anaconda3\\lib\\site-packages (from catboost<1.3,>=1.2->autogluon.tabular[all]==1.2->autogluon) (1.16.0)\n",
      "Requirement already satisfied: datasets>=2.0.0 in c:\\users\\mmuib\\anaconda3\\lib\\site-packages (from evaluate<0.5.0,>=0.4.0->autogluon.multimodal==1.2->autogluon) (3.5.0)\n",
      "Requirement already satisfied: dill in c:\\users\\mmuib\\anaconda3\\lib\\site-packages (from evaluate<0.5.0,>=0.4.0->autogluon.multimodal==1.2->autogluon) (0.3.8)\n",
      "Requirement already satisfied: xxhash in c:\\users\\mmuib\\anaconda3\\lib\\site-packages (from evaluate<0.5.0,>=0.4.0->autogluon.multimodal==1.2->autogluon) (3.5.0)\n",
      "Requirement already satisfied: multiprocess in c:\\users\\mmuib\\anaconda3\\lib\\site-packages (from evaluate<0.5.0,>=0.4.0->autogluon.multimodal==1.2->autogluon) (0.70.16)\n",
      "Requirement already satisfied: pip in c:\\users\\mmuib\\anaconda3\\lib\\site-packages (from fastai<2.8,>=2.3.1->autogluon.tabular[all]==1.2->autogluon) (24.0)\n",
      "Requirement already satisfied: fastdownload<2,>=0.0.5 in c:\\users\\mmuib\\anaconda3\\lib\\site-packages (from fastai<2.8,>=2.3.1->autogluon.tabular[all]==1.2->autogluon) (0.0.7)\n",
      "Requirement already satisfied: fastcore<1.8,>=1.5.29 in c:\\users\\mmuib\\anaconda3\\lib\\site-packages (from fastai<2.8,>=2.3.1->autogluon.tabular[all]==1.2->autogluon) (1.7.29)\n",
      "Requirement already satisfied: fastprogress>=0.2.4 in c:\\users\\mmuib\\anaconda3\\lib\\site-packages (from fastai<2.8,>=2.3.1->autogluon.tabular[all]==1.2->autogluon) (1.0.3)\n",
      "Requirement already satisfied: triad>=0.9.7 in c:\\users\\mmuib\\anaconda3\\lib\\site-packages (from fugue>=0.9.0->autogluon.timeseries==1.2->autogluon.timeseries[all]==1.2->autogluon) (0.9.8)\n",
      "Requirement already satisfied: adagio>=0.2.4 in c:\\users\\mmuib\\anaconda3\\lib\\site-packages (from fugue>=0.9.0->autogluon.timeseries==1.2->autogluon.timeseries[all]==1.2->autogluon) (0.2.6)\n",
      "Requirement already satisfied: pydantic<3,>=1.7 in c:\\users\\mmuib\\anaconda3\\lib\\site-packages (from gluonts<0.17,>=0.15.0->autogluon.timeseries==1.2->autogluon.timeseries[all]==1.2->autogluon) (2.5.3)\n",
      "Requirement already satisfied: toolz~=0.10 in c:\\users\\mmuib\\anaconda3\\lib\\site-packages (from gluonts<0.17,>=0.15.0->autogluon.timeseries==1.2->autogluon.timeseries[all]==1.2->autogluon) (0.12.0)\n",
      "Requirement already satisfied: typing-extensions~=4.0 in c:\\users\\mmuib\\anaconda3\\lib\\site-packages (from gluonts<0.17,>=0.15.0->autogluon.timeseries==1.2->autogluon.timeseries[all]==1.2->autogluon) (4.13.2)\n",
      "Requirement already satisfied: future in c:\\users\\mmuib\\anaconda3\\lib\\site-packages (from hyperopt<0.2.8,>=0.2.7->autogluon.core[all]==1.2->autogluon) (1.0.0)\n",
      "Requirement already satisfied: py4j in c:\\users\\mmuib\\anaconda3\\lib\\site-packages (from hyperopt<0.2.8,>=0.2.7->autogluon.core[all]==1.2->autogluon) (0.10.9.9)\n",
      "Requirement already satisfied: MarkupSafe>=2.0 in c:\\users\\mmuib\\anaconda3\\lib\\site-packages (from jinja2<3.2,>=3.0.3->autogluon.multimodal==1.2->autogluon) (2.1.3)\n",
      "Requirement already satisfied: attrs>=22.2.0 in c:\\users\\mmuib\\anaconda3\\lib\\site-packages (from jsonschema<4.22,>=4.18->autogluon.multimodal==1.2->autogluon) (23.1.0)\n",
      "Requirement already satisfied: jsonschema-specifications>=2023.03.6 in c:\\users\\mmuib\\anaconda3\\lib\\site-packages (from jsonschema<4.22,>=4.18->autogluon.multimodal==1.2->autogluon) (2023.7.1)\n",
      "Requirement already satisfied: referencing>=0.28.4 in c:\\users\\mmuib\\anaconda3\\lib\\site-packages (from jsonschema<4.22,>=4.18->autogluon.multimodal==1.2->autogluon) (0.30.2)\n",
      "Requirement already satisfied: rpds-py>=0.7.1 in c:\\users\\mmuib\\anaconda3\\lib\\site-packages (from jsonschema<4.22,>=4.18->autogluon.multimodal==1.2->autogluon) (0.10.6)\n",
      "Requirement already satisfied: lightning-utilities<2.0,>=0.10.0 in c:\\users\\mmuib\\anaconda3\\lib\\site-packages (from lightning<2.6,>=2.2->autogluon.multimodal==1.2->autogluon) (0.14.3)\n",
      "Requirement already satisfied: contourpy>=1.0.1 in c:\\users\\mmuib\\anaconda3\\lib\\site-packages (from matplotlib<3.11,>=3.7.0->autogluon.core==1.2->autogluon.core[all]==1.2->autogluon) (1.2.0)\n",
      "Requirement already satisfied: cycler>=0.10 in c:\\users\\mmuib\\anaconda3\\lib\\site-packages (from matplotlib<3.11,>=3.7.0->autogluon.core==1.2->autogluon.core[all]==1.2->autogluon) (0.11.0)\n",
      "Requirement already satisfied: fonttools>=4.22.0 in c:\\users\\mmuib\\anaconda3\\lib\\site-packages (from matplotlib<3.11,>=3.7.0->autogluon.core==1.2->autogluon.core[all]==1.2->autogluon) (4.51.0)\n",
      "Requirement already satisfied: kiwisolver>=1.3.1 in c:\\users\\mmuib\\anaconda3\\lib\\site-packages (from matplotlib<3.11,>=3.7.0->autogluon.core==1.2->autogluon.core[all]==1.2->autogluon) (1.4.4)\n",
      "Requirement already satisfied: pyparsing>=2.3.1 in c:\\users\\mmuib\\anaconda3\\lib\\site-packages (from matplotlib<3.11,>=3.7.0->autogluon.core==1.2->autogluon.core[all]==1.2->autogluon) (3.0.9)\n",
      "Requirement already satisfied: python-dateutil>=2.7 in c:\\users\\mmuib\\anaconda3\\lib\\site-packages (from matplotlib<3.11,>=3.7.0->autogluon.core==1.2->autogluon.core[all]==1.2->autogluon) (2.9.0.post0)\n",
      "Requirement already satisfied: gdown>=4.0.0 in c:\\users\\mmuib\\anaconda3\\lib\\site-packages (from nlpaug<1.2.0,>=1.1.10->autogluon.multimodal==1.2->autogluon) (5.2.0)\n",
      "Requirement already satisfied: click in c:\\users\\mmuib\\anaconda3\\lib\\site-packages (from nltk<3.9,>=3.4.5->autogluon.multimodal==1.2->autogluon) (8.1.7)\n",
      "Requirement already satisfied: regex>=2021.8.3 in c:\\users\\mmuib\\anaconda3\\lib\\site-packages (from nltk<3.9,>=3.4.5->autogluon.multimodal==1.2->autogluon) (2023.10.3)\n",
      "Requirement already satisfied: antlr4-python3-runtime==4.9.* in c:\\users\\mmuib\\anaconda3\\lib\\site-packages (from omegaconf<2.3.0,>=2.1.1->autogluon.multimodal==1.2->autogluon) (4.9.3)\n",
      "Requirement already satisfied: colorama in c:\\users\\mmuib\\anaconda3\\lib\\site-packages (from openmim<0.4.0,>=0.3.7->autogluon.multimodal==1.2->autogluon) (0.4.6)\n",
      "Requirement already satisfied: model-index in c:\\users\\mmuib\\anaconda3\\lib\\site-packages (from openmim<0.4.0,>=0.3.7->autogluon.multimodal==1.2->autogluon) (0.1.11)\n",
      "Requirement already satisfied: opendatalab in c:\\users\\mmuib\\anaconda3\\lib\\site-packages (from openmim<0.4.0,>=0.3.7->autogluon.multimodal==1.2->autogluon) (0.0.10)\n",
      "Requirement already satisfied: rich in c:\\users\\mmuib\\anaconda3\\lib\\site-packages (from openmim<0.4.0,>=0.3.7->autogluon.multimodal==1.2->autogluon) (13.3.5)\n",
      "Requirement already satisfied: tabulate in c:\\users\\mmuib\\anaconda3\\lib\\site-packages (from openmim<0.4.0,>=0.3.7->autogluon.multimodal==1.2->autogluon) (0.9.0)\n",
      "Requirement already satisfied: pytz>=2020.1 in c:\\users\\mmuib\\anaconda3\\lib\\site-packages (from pandas<2.3.0,>=2.0.0->autogluon.core==1.2->autogluon.core[all]==1.2->autogluon) (2024.1)\n",
      "Requirement already satisfied: tzdata>=2022.7 in c:\\users\\mmuib\\anaconda3\\lib\\site-packages (from pandas<2.3.0,>=2.0.0->autogluon.core==1.2->autogluon.core[all]==1.2->autogluon) (2023.3)\n",
      "Requirement already satisfied: filelock in c:\\users\\mmuib\\anaconda3\\lib\\site-packages (from ray<2.40,>=2.10.0->ray[default]<2.40,>=2.10.0; extra == \"all\"->autogluon.core[all]==1.2->autogluon) (3.13.1)\n",
      "Requirement already satisfied: msgpack<2.0.0,>=1.0.0 in c:\\users\\mmuib\\anaconda3\\lib\\site-packages (from ray<2.40,>=2.10.0->ray[default]<2.40,>=2.10.0; extra == \"all\"->autogluon.core[all]==1.2->autogluon) (1.0.3)\n",
      "Requirement already satisfied: protobuf!=3.19.5,>=3.15.3 in c:\\users\\mmuib\\anaconda3\\lib\\site-packages (from ray<2.40,>=2.10.0->ray[default]<2.40,>=2.10.0; extra == \"all\"->autogluon.core[all]==1.2->autogluon) (3.20.3)\n",
      "Requirement already satisfied: aiosignal in c:\\users\\mmuib\\anaconda3\\lib\\site-packages (from ray<2.40,>=2.10.0->ray[default]<2.40,>=2.10.0; extra == \"all\"->autogluon.core[all]==1.2->autogluon) (1.2.0)\n",
      "Requirement already satisfied: frozenlist in c:\\users\\mmuib\\anaconda3\\lib\\site-packages (from ray<2.40,>=2.10.0->ray[default]<2.40,>=2.10.0; extra == \"all\"->autogluon.core[all]==1.2->autogluon) (1.4.0)\n",
      "Requirement already satisfied: aiohttp>=3.7 in c:\\users\\mmuib\\anaconda3\\lib\\site-packages (from ray[default,tune]<2.40,>=2.10.0; extra == \"all\"->autogluon.core[all]==1.2->autogluon) (3.9.5)\n",
      "Requirement already satisfied: aiohttp-cors in c:\\users\\mmuib\\anaconda3\\lib\\site-packages (from ray[default,tune]<2.40,>=2.10.0; extra == \"all\"->autogluon.core[all]==1.2->autogluon) (0.8.1)\n",
      "Requirement already satisfied: colorful in c:\\users\\mmuib\\anaconda3\\lib\\site-packages (from ray[default,tune]<2.40,>=2.10.0; extra == \"all\"->autogluon.core[all]==1.2->autogluon) (0.5.6)\n",
      "Requirement already satisfied: py-spy>=0.2.0 in c:\\users\\mmuib\\anaconda3\\lib\\site-packages (from ray[default,tune]<2.40,>=2.10.0; extra == \"all\"->autogluon.core[all]==1.2->autogluon) (0.4.0)\n",
      "Requirement already satisfied: opencensus in c:\\users\\mmuib\\anaconda3\\lib\\site-packages (from ray[default,tune]<2.40,>=2.10.0; extra == \"all\"->autogluon.core[all]==1.2->autogluon) (0.11.4)\n",
      "Requirement already satisfied: prometheus-client>=0.7.1 in c:\\users\\mmuib\\anaconda3\\lib\\site-packages (from ray[default,tune]<2.40,>=2.10.0; extra == \"all\"->autogluon.core[all]==1.2->autogluon) (0.14.1)\n",
      "Requirement already satisfied: smart-open in c:\\users\\mmuib\\anaconda3\\lib\\site-packages (from ray[default,tune]<2.40,>=2.10.0; extra == \"all\"->autogluon.core[all]==1.2->autogluon) (5.2.1)\n",
      "Requirement already satisfied: virtualenv!=20.21.1,>=20.0.24 in c:\\users\\mmuib\\anaconda3\\lib\\site-packages (from ray[default,tune]<2.40,>=2.10.0; extra == \"all\"->autogluon.core[all]==1.2->autogluon) (20.30.0)\n",
      "Requirement already satisfied: grpcio>=1.42.0 in c:\\users\\mmuib\\anaconda3\\lib\\site-packages (from ray[default,tune]<2.40,>=2.10.0; extra == \"all\"->autogluon.core[all]==1.2->autogluon) (1.71.0)\n",
      "Requirement already satisfied: tensorboardX>=1.9 in c:\\users\\mmuib\\anaconda3\\lib\\site-packages (from ray[default,tune]<2.40,>=2.10.0; extra == \"all\"->autogluon.core[all]==1.2->autogluon) (2.6.2.2)\n",
      "Requirement already satisfied: charset-normalizer<4,>=2 in c:\\users\\mmuib\\anaconda3\\lib\\site-packages (from requests->autogluon.core==1.2->autogluon.core[all]==1.2->autogluon) (2.0.4)\n",
      "Requirement already satisfied: idna<4,>=2.5 in c:\\users\\mmuib\\anaconda3\\lib\\site-packages (from requests->autogluon.core==1.2->autogluon.core[all]==1.2->autogluon) (3.7)\n",
      "Requirement already satisfied: urllib3<3,>=1.21.1 in c:\\users\\mmuib\\anaconda3\\lib\\site-packages (from requests->autogluon.core==1.2->autogluon.core[all]==1.2->autogluon) (2.2.2)\n",
      "Requirement already satisfied: certifi>=2017.4.17 in c:\\users\\mmuib\\anaconda3\\lib\\site-packages (from requests->autogluon.core==1.2->autogluon.core[all]==1.2->autogluon) (2024.8.30)\n",
      "Requirement already satisfied: imageio>=2.33 in c:\\users\\mmuib\\anaconda3\\lib\\site-packages (from scikit-image<0.25.0,>=0.19.1->autogluon.multimodal==1.2->autogluon) (2.33.1)\n",
      "Requirement already satisfied: tifffile>=2022.8.12 in c:\\users\\mmuib\\anaconda3\\lib\\site-packages (from scikit-image<0.25.0,>=0.19.1->autogluon.multimodal==1.2->autogluon) (2023.4.12)\n",
      "Requirement already satisfied: lazy-loader>=0.4 in c:\\users\\mmuib\\anaconda3\\lib\\site-packages (from scikit-image<0.25.0,>=0.19.1->autogluon.multimodal==1.2->autogluon) (0.4)\n",
      "Requirement already satisfied: threadpoolctl>=2.0.0 in c:\\users\\mmuib\\anaconda3\\lib\\site-packages (from scikit-learn<1.5.3,>=1.4.0->autogluon.core==1.2->autogluon.core[all]==1.2->autogluon) (3.6.0)\n",
      "Requirement already satisfied: spacy-legacy<3.1.0,>=3.0.11 in c:\\users\\mmuib\\anaconda3\\lib\\site-packages (from spacy<3.8->autogluon.tabular[all]==1.2->autogluon) (3.0.12)\n",
      "Requirement already satisfied: spacy-loggers<2.0.0,>=1.0.0 in c:\\users\\mmuib\\anaconda3\\lib\\site-packages (from spacy<3.8->autogluon.tabular[all]==1.2->autogluon) (1.0.5)\n",
      "Requirement already satisfied: murmurhash<1.1.0,>=0.28.0 in c:\\users\\mmuib\\anaconda3\\lib\\site-packages (from spacy<3.8->autogluon.tabular[all]==1.2->autogluon) (1.0.12)\n",
      "Requirement already satisfied: cymem<2.1.0,>=2.0.2 in c:\\users\\mmuib\\anaconda3\\lib\\site-packages (from spacy<3.8->autogluon.tabular[all]==1.2->autogluon) (2.0.11)\n",
      "Requirement already satisfied: preshed<3.1.0,>=3.0.2 in c:\\users\\mmuib\\anaconda3\\lib\\site-packages (from spacy<3.8->autogluon.tabular[all]==1.2->autogluon) (3.0.9)\n",
      "Requirement already satisfied: thinc<8.3.0,>=8.2.2 in c:\\users\\mmuib\\anaconda3\\lib\\site-packages (from spacy<3.8->autogluon.tabular[all]==1.2->autogluon) (8.2.5)\n",
      "Requirement already satisfied: wasabi<1.2.0,>=0.9.1 in c:\\users\\mmuib\\anaconda3\\lib\\site-packages (from spacy<3.8->autogluon.tabular[all]==1.2->autogluon) (1.1.3)\n",
      "Requirement already satisfied: srsly<3.0.0,>=2.4.3 in c:\\users\\mmuib\\anaconda3\\lib\\site-packages (from spacy<3.8->autogluon.tabular[all]==1.2->autogluon) (2.5.1)\n",
      "Requirement already satisfied: catalogue<2.1.0,>=2.0.6 in c:\\users\\mmuib\\anaconda3\\lib\\site-packages (from spacy<3.8->autogluon.tabular[all]==1.2->autogluon) (2.0.10)\n",
      "Requirement already satisfied: weasel<0.5.0,>=0.1.0 in c:\\users\\mmuib\\anaconda3\\lib\\site-packages (from spacy<3.8->autogluon.tabular[all]==1.2->autogluon) (0.4.1)\n",
      "Requirement already satisfied: typer<1.0.0,>=0.3.0 in c:\\users\\mmuib\\anaconda3\\lib\\site-packages (from spacy<3.8->autogluon.tabular[all]==1.2->autogluon) (0.15.2)\n",
      "Requirement already satisfied: setuptools in c:\\users\\mmuib\\anaconda3\\lib\\site-packages (from spacy<3.8->autogluon.tabular[all]==1.2->autogluon) (69.5.1)\n",
      "Requirement already satisfied: langcodes<4.0.0,>=3.2.0 in c:\\users\\mmuib\\anaconda3\\lib\\site-packages (from spacy<3.8->autogluon.tabular[all]==1.2->autogluon) (3.5.0)\n",
      "Requirement already satisfied: statsmodels>=0.13.2 in c:\\users\\mmuib\\anaconda3\\lib\\site-packages (from statsforecast<1.8,>=1.7.0->autogluon.timeseries==1.2->autogluon.timeseries[all]==1.2->autogluon) (0.14.2)\n",
      "Requirement already satisfied: absl-py>=0.4 in c:\\users\\mmuib\\anaconda3\\lib\\site-packages (from tensorboard<3,>=2.9->autogluon.multimodal==1.2->autogluon) (2.2.2)\n",
      "Requirement already satisfied: markdown>=2.6.8 in c:\\users\\mmuib\\anaconda3\\lib\\site-packages (from tensorboard<3,>=2.9->autogluon.multimodal==1.2->autogluon) (3.4.1)\n",
      "Requirement already satisfied: tensorboard-data-server<0.8.0,>=0.7.0 in c:\\users\\mmuib\\anaconda3\\lib\\site-packages (from tensorboard<3,>=2.9->autogluon.multimodal==1.2->autogluon) (0.7.2)\n",
      "Requirement already satisfied: werkzeug>=1.0.1 in c:\\users\\mmuib\\anaconda3\\lib\\site-packages (from tensorboard<3,>=2.9->autogluon.multimodal==1.2->autogluon) (3.0.3)\n",
      "Requirement already satisfied: sympy==1.13.1 in c:\\users\\mmuib\\anaconda3\\lib\\site-packages (from torch<2.6,>=2.2->autogluon.multimodal==1.2->autogluon) (1.13.1)\n",
      "Requirement already satisfied: mpmath<1.4,>=1.1.0 in c:\\users\\mmuib\\anaconda3\\lib\\site-packages (from sympy==1.13.1->torch<2.6,>=2.2->autogluon.multimodal==1.2->autogluon) (1.3.0)\n",
      "Requirement already satisfied: tokenizers<0.22,>=0.21 in c:\\users\\mmuib\\anaconda3\\lib\\site-packages (from transformers<5,>=4.38.0->transformers[sentencepiece]<5,>=4.38.0->autogluon.multimodal==1.2->autogluon) (0.21.1)\n",
      "Requirement already satisfied: sentencepiece!=0.1.92,>=0.1.91 in c:\\users\\mmuib\\anaconda3\\lib\\site-packages (from transformers[sentencepiece]<5,>=4.38.0->autogluon.multimodal==1.2->autogluon) (0.2.0)\n",
      "Requirement already satisfied: multidict<7.0,>=4.5 in c:\\users\\mmuib\\anaconda3\\lib\\site-packages (from aiohttp>=3.7->ray[default,tune]<2.40,>=2.10.0; extra == \"all\"->autogluon.core[all]==1.2->autogluon) (6.0.4)\n",
      "Requirement already satisfied: yarl<2.0,>=1.0 in c:\\users\\mmuib\\anaconda3\\lib\\site-packages (from aiohttp>=3.7->ray[default,tune]<2.40,>=2.10.0; extra == \"all\"->autogluon.core[all]==1.2->autogluon) (1.9.3)\n",
      "Requirement already satisfied: beautifulsoup4 in c:\\users\\mmuib\\anaconda3\\lib\\site-packages (from gdown>=4.0.0->nlpaug<1.2.0,>=1.1.10->autogluon.multimodal==1.2->autogluon) (4.12.3)\n",
      "Requirement already satisfied: language-data>=1.2 in c:\\users\\mmuib\\anaconda3\\lib\\site-packages (from langcodes<4.0.0,>=3.2.0->spacy<3.8->autogluon.tabular[all]==1.2->autogluon) (1.3.0)\n",
      "Requirement already satisfied: llvmlite<0.43,>=0.42.0dev0 in c:\\users\\mmuib\\anaconda3\\lib\\site-packages (from numba->mlforecast==0.13.4->autogluon.timeseries==1.2->autogluon.timeseries[all]==1.2->autogluon) (0.42.0)\n",
      "Requirement already satisfied: annotated-types>=0.4.0 in c:\\users\\mmuib\\anaconda3\\lib\\site-packages (from pydantic<3,>=1.7->gluonts<0.17,>=0.15.0->autogluon.timeseries==1.2->autogluon.timeseries[all]==1.2->autogluon) (0.6.0)\n",
      "Requirement already satisfied: pydantic-core==2.14.6 in c:\\users\\mmuib\\anaconda3\\lib\\site-packages (from pydantic<3,>=1.7->gluonts<0.17,>=0.15.0->autogluon.timeseries==1.2->autogluon.timeseries[all]==1.2->autogluon) (2.14.6)\n",
      "Requirement already satisfied: patsy>=0.5.6 in c:\\users\\mmuib\\anaconda3\\lib\\site-packages (from statsmodels>=0.13.2->statsforecast<1.8,>=1.7.0->autogluon.timeseries==1.2->autogluon.timeseries[all]==1.2->autogluon) (0.5.6)\n",
      "Requirement already satisfied: blis<0.8.0,>=0.7.8 in c:\\users\\mmuib\\anaconda3\\lib\\site-packages (from thinc<8.3.0,>=8.2.2->spacy<3.8->autogluon.tabular[all]==1.2->autogluon) (0.7.11)\n",
      "Requirement already satisfied: confection<1.0.0,>=0.0.1 in c:\\users\\mmuib\\anaconda3\\lib\\site-packages (from thinc<8.3.0,>=8.2.2->spacy<3.8->autogluon.tabular[all]==1.2->autogluon) (0.1.5)\n",
      "Requirement already satisfied: fs in c:\\users\\mmuib\\anaconda3\\lib\\site-packages (from triad>=0.9.7->fugue>=0.9.0->autogluon.timeseries==1.2->autogluon.timeseries[all]==1.2->autogluon) (2.4.16)\n",
      "Requirement already satisfied: shellingham>=1.3.0 in c:\\users\\mmuib\\anaconda3\\lib\\site-packages (from typer<1.0.0,>=0.3.0->spacy<3.8->autogluon.tabular[all]==1.2->autogluon) (1.5.4)\n",
      "Requirement already satisfied: markdown-it-py<3.0.0,>=2.2.0 in c:\\users\\mmuib\\anaconda3\\lib\\site-packages (from rich->openmim<0.4.0,>=0.3.7->autogluon.multimodal==1.2->autogluon) (2.2.0)\n",
      "Requirement already satisfied: pygments<3.0.0,>=2.13.0 in c:\\users\\mmuib\\anaconda3\\lib\\site-packages (from rich->openmim<0.4.0,>=0.3.7->autogluon.multimodal==1.2->autogluon) (2.15.1)\n",
      "Requirement already satisfied: distlib<1,>=0.3.7 in c:\\users\\mmuib\\anaconda3\\lib\\site-packages (from virtualenv!=20.21.1,>=20.0.24->ray[default,tune]<2.40,>=2.10.0; extra == \"all\"->autogluon.core[all]==1.2->autogluon) (0.3.9)\n",
      "Requirement already satisfied: platformdirs<5,>=3.9.1 in c:\\users\\mmuib\\anaconda3\\lib\\site-packages (from virtualenv!=20.21.1,>=20.0.24->ray[default,tune]<2.40,>=2.10.0; extra == \"all\"->autogluon.core[all]==1.2->autogluon) (3.10.0)\n",
      "Requirement already satisfied: cloudpathlib<1.0.0,>=0.7.0 in c:\\users\\mmuib\\anaconda3\\lib\\site-packages (from weasel<0.5.0,>=0.1.0->spacy<3.8->autogluon.tabular[all]==1.2->autogluon) (0.21.0)\n",
      "Requirement already satisfied: ordered-set in c:\\users\\mmuib\\anaconda3\\lib\\site-packages (from model-index->openmim<0.4.0,>=0.3.7->autogluon.multimodal==1.2->autogluon) (4.1.0)\n",
      "Requirement already satisfied: opencensus-context>=0.1.3 in c:\\users\\mmuib\\anaconda3\\lib\\site-packages (from opencensus->ray[default,tune]<2.40,>=2.10.0; extra == \"all\"->autogluon.core[all]==1.2->autogluon) (0.1.3)\n",
      "Requirement already satisfied: google-api-core<3.0.0,>=1.0.0 in c:\\users\\mmuib\\anaconda3\\lib\\site-packages (from opencensus->ray[default,tune]<2.40,>=2.10.0; extra == \"all\"->autogluon.core[all]==1.2->autogluon) (2.24.2)\n",
      "Requirement already satisfied: pycryptodome in c:\\users\\mmuib\\anaconda3\\lib\\site-packages (from opendatalab->openmim<0.4.0,>=0.3.7->autogluon.multimodal==1.2->autogluon) (3.22.0)\n",
      "Requirement already satisfied: openxlab in c:\\users\\mmuib\\anaconda3\\lib\\site-packages (from opendatalab->openmim<0.4.0,>=0.3.7->autogluon.multimodal==1.2->autogluon) (0.0.11)\n",
      "Requirement already satisfied: pywin32 in c:\\users\\mmuib\\anaconda3\\lib\\site-packages (from opendatalab->openmim<0.4.0,>=0.3.7->autogluon.multimodal==1.2->autogluon) (305.1)\n",
      "Requirement already satisfied: alembic>=1.5.0 in c:\\users\\mmuib\\anaconda3\\lib\\site-packages (from optuna->mlforecast==0.13.4->autogluon.timeseries==1.2->autogluon.timeseries[all]==1.2->autogluon) (1.15.2)\n",
      "Requirement already satisfied: colorlog in c:\\users\\mmuib\\anaconda3\\lib\\site-packages (from optuna->mlforecast==0.13.4->autogluon.timeseries==1.2->autogluon.timeseries[all]==1.2->autogluon) (6.9.0)\n",
      "Requirement already satisfied: sqlalchemy>=1.4.2 in c:\\users\\mmuib\\anaconda3\\lib\\site-packages (from optuna->mlforecast==0.13.4->autogluon.timeseries==1.2->autogluon.timeseries[all]==1.2->autogluon) (2.0.30)\n",
      "Requirement already satisfied: tenacity>=6.2.0 in c:\\users\\mmuib\\anaconda3\\lib\\site-packages (from plotly->catboost<1.3,>=1.2->autogluon.tabular[all]==1.2->autogluon) (8.2.2)\n",
      "Requirement already satisfied: Mako in c:\\users\\mmuib\\anaconda3\\lib\\site-packages (from alembic>=1.5.0->optuna->mlforecast==0.13.4->autogluon.timeseries==1.2->autogluon.timeseries[all]==1.2->autogluon) (1.3.10)\n",
      "Requirement already satisfied: googleapis-common-protos<2.0.0,>=1.56.2 in c:\\users\\mmuib\\anaconda3\\lib\\site-packages (from google-api-core<3.0.0,>=1.0.0->opencensus->ray[default,tune]<2.40,>=2.10.0; extra == \"all\"->autogluon.core[all]==1.2->autogluon) (1.69.2)\n",
      "Requirement already satisfied: proto-plus<2.0.0,>=1.22.3 in c:\\users\\mmuib\\anaconda3\\lib\\site-packages (from google-api-core<3.0.0,>=1.0.0->opencensus->ray[default,tune]<2.40,>=2.10.0; extra == \"all\"->autogluon.core[all]==1.2->autogluon) (1.26.1)\n",
      "Requirement already satisfied: google-auth<3.0.0,>=2.14.1 in c:\\users\\mmuib\\anaconda3\\lib\\site-packages (from google-api-core<3.0.0,>=1.0.0->opencensus->ray[default,tune]<2.40,>=2.10.0; extra == \"all\"->autogluon.core[all]==1.2->autogluon) (2.38.0)\n",
      "Requirement already satisfied: marisa-trie>=1.1.0 in c:\\users\\mmuib\\anaconda3\\lib\\site-packages (from language-data>=1.2->langcodes<4.0.0,>=3.2.0->spacy<3.8->autogluon.tabular[all]==1.2->autogluon) (1.2.1)\n",
      "Requirement already satisfied: mdurl~=0.1 in c:\\users\\mmuib\\anaconda3\\lib\\site-packages (from markdown-it-py<3.0.0,>=2.2.0->rich->openmim<0.4.0,>=0.3.7->autogluon.multimodal==1.2->autogluon) (0.1.0)\n",
      "Requirement already satisfied: greenlet!=0.4.17 in c:\\users\\mmuib\\anaconda3\\lib\\site-packages (from sqlalchemy>=1.4.2->optuna->mlforecast==0.13.4->autogluon.timeseries==1.2->autogluon.timeseries[all]==1.2->autogluon) (3.0.1)\n",
      "Requirement already satisfied: soupsieve>1.2 in c:\\users\\mmuib\\anaconda3\\lib\\site-packages (from beautifulsoup4->gdown>=4.0.0->nlpaug<1.2.0,>=1.1.10->autogluon.multimodal==1.2->autogluon) (2.5)\n",
      "Requirement already satisfied: appdirs~=1.4.3 in c:\\users\\mmuib\\anaconda3\\lib\\site-packages (from fs->triad>=0.9.7->fugue>=0.9.0->autogluon.timeseries==1.2->autogluon.timeseries[all]==1.2->autogluon) (1.4.4)\n",
      "Requirement already satisfied: PySocks!=1.5.7,>=1.5.6 in c:\\users\\mmuib\\anaconda3\\lib\\site-packages (from requests[socks]->gdown>=4.0.0->nlpaug<1.2.0,>=1.1.10->autogluon.multimodal==1.2->autogluon) (1.7.1)\n",
      "Requirement already satisfied: cachetools<6.0,>=2.0.0 in c:\\users\\mmuib\\anaconda3\\lib\\site-packages (from google-auth<3.0.0,>=2.14.1->google-api-core<3.0.0,>=1.0.0->opencensus->ray[default,tune]<2.40,>=2.10.0; extra == \"all\"->autogluon.core[all]==1.2->autogluon) (5.3.3)\n",
      "Requirement already satisfied: pyasn1-modules>=0.2.1 in c:\\users\\mmuib\\anaconda3\\lib\\site-packages (from google-auth<3.0.0,>=2.14.1->google-api-core<3.0.0,>=1.0.0->opencensus->ray[default,tune]<2.40,>=2.10.0; extra == \"all\"->autogluon.core[all]==1.2->autogluon) (0.2.8)\n",
      "Requirement already satisfied: rsa<5,>=3.1.4 in c:\\users\\mmuib\\anaconda3\\lib\\site-packages (from google-auth<3.0.0,>=2.14.1->google-api-core<3.0.0,>=1.0.0->opencensus->ray[default,tune]<2.40,>=2.10.0; extra == \"all\"->autogluon.core[all]==1.2->autogluon) (4.9)\n",
      "Requirement already satisfied: pyasn1<0.5.0,>=0.4.6 in c:\\users\\mmuib\\anaconda3\\lib\\site-packages (from pyasn1-modules>=0.2.1->google-auth<3.0.0,>=2.14.1->google-api-core<3.0.0,>=1.0.0->opencensus->ray[default,tune]<2.40,>=2.10.0; extra == \"all\"->autogluon.core[all]==1.2->autogluon) (0.4.8)\n"
     ]
    }
   ],
   "source": [
    "!pip install autogluon\n",
    "\n"
   ]
  },
  {
   "cell_type": "code",
   "execution_count": 113,
   "id": "1e4e7973-992e-4d63-a225-5c5eb4b737f4",
   "metadata": {},
   "outputs": [],
   "source": [
    "# imports\n",
    "import pandas as pd\n",
    "import numpy as np\n",
    "\n",
    "import seaborn as sns\n",
    "import matplotlib.pyplot as plt\n",
    "from scipy import stats\n",
    "\n",
    "from autogluon.tabular import TabularDataset, TabularPredictor\n",
    "from sklearn.model_selection import train_test_split"
   ]
  },
  {
   "cell_type": "markdown",
   "id": "e1e8866a-51db-47b5-9504-ba885c9690b0",
   "metadata": {},
   "source": [
    "\n",
    "# AutoGluon Regression: Predicting Loan Amount\r\n",
    "\r\n",
    "In this notebook, we will use AutoGluon to build a regression model that predicts the `LoanAmount` based on various features such as `ApplicantIncome_Annual`, `CoapplicantIncome_Annual`, and others. \r\n",
    "\r\n",
    "AutoGluon automatically handles model selection, hyperparameter tuning, and training with minimal code. The goal is to predict the loan amount requested by the applicant using the available data.\r\n"
   ]
  },
  {
   "cell_type": "code",
   "execution_count": null,
   "id": "aa6337ae-6c79-44ed-b145-bb78b48d04f3",
   "metadata": {},
   "outputs": [],
   "source": []
  },
  {
   "cell_type": "markdown",
   "id": "13e8ad1c-6ac5-4a1a-9a0c-f58f99864c0d",
   "metadata": {},
   "source": [
    "## Data Definitions\r\n",
    "\r\n",
    "The dataset consists of various features, including:\r\n",
    "- **`ApplicantIncome_Annual`**: The annual income of the applicant.\r\n",
    "- **`CoapplicantIncome_Annual`**: The annual income of the coapplicant.\r\n",
    "- **`LoanAmount`**: The target column representing the loan amount requested by the applicant.\r\n",
    "\r\n",
    "In this notebook, we will predict the `LoanAmount` using the available features in the dataset.\r\n"
   ]
  },
  {
   "cell_type": "markdown",
   "id": "3cc04b87-7a1f-49a3-8e56-c240765cbcd5",
   "metadata": {},
   "source": [
    "##  Model Building "
   ]
  },
  {
   "cell_type": "code",
   "execution_count": 115,
   "id": "35609a1b-b14f-4fed-b4fa-7f5906e1a8f1",
   "metadata": {},
   "outputs": [],
   "source": [
    "# imports\n",
    "from autogluon.tabular import TabularDataset, TabularPredictor\n",
    "import pandas as pd"
   ]
  },
  {
   "cell_type": "markdown",
   "id": "ec4a7c10-ecdc-4e96-97ef-dc7e624972d0",
   "metadata": {},
   "source": [
    "Load the Dataset"
   ]
  },
  {
   "cell_type": "code",
   "execution_count": 117,
   "id": "20da3d48-6a75-4c62-9035-56addef7f8e9",
   "metadata": {},
   "outputs": [],
   "source": [
    "\n",
    "loan_data_path = r'C:\\Users\\mmuib\\Loan_Approval_f.csv'  \n",
    "data = pd.read_csv(loan_data_path)"
   ]
  },
  {
   "cell_type": "markdown",
   "id": "3d648190-e3bc-4df1-91a2-5539a8f0d5dd",
   "metadata": {},
   "source": [
    "Checking Dataset Structures/EDA"
   ]
  },
  {
   "cell_type": "code",
   "execution_count": 119,
   "id": "11d4d614-910d-4b0f-9655-6a707f19392d",
   "metadata": {},
   "outputs": [
    {
     "name": "stdout",
     "output_type": "stream",
     "text": [
      "<class 'pandas.core.frame.DataFrame'>\n",
      "RangeIndex: 614 entries, 0 to 613\n",
      "Data columns (total 11 columns):\n",
      " #   Column                    Non-Null Count  Dtype  \n",
      "---  ------                    --------------  -----  \n",
      " 0   Married                   614 non-null    object \n",
      " 1   Dependents                614 non-null    int64  \n",
      " 2   Education                 614 non-null    object \n",
      " 3   Self_Employed             614 non-null    object \n",
      " 4   ApplicantIncome_Annual    614 non-null    int64  \n",
      " 5   CoapplicantIncome_Annual  614 non-null    float64\n",
      " 6   TotalFamilyIncome_Annual  614 non-null    float64\n",
      " 7   LoanAmount                614 non-null    int64  \n",
      " 8   Loan_Amount_Term_Year     614 non-null    int64  \n",
      " 9   Credit_History            614 non-null    object \n",
      " 10  Property_Area             614 non-null    object \n",
      "dtypes: float64(2), int64(4), object(5)\n",
      "memory usage: 52.9+ KB\n"
     ]
    }
   ],
   "source": [
    "data.info()"
   ]
  },
  {
   "cell_type": "code",
   "execution_count": 121,
   "id": "e1cc20ab-86b5-4c3a-920c-888c90a830a6",
   "metadata": {},
   "outputs": [
    {
     "data": {
      "text/plain": [
       "Index(['Married', 'Dependents', 'Education', 'Self_Employed',\n",
       "       'ApplicantIncome_Annual', 'CoapplicantIncome_Annual',\n",
       "       'TotalFamilyIncome_Annual', 'LoanAmount', 'Loan_Amount_Term_Year',\n",
       "       'Credit_History', 'Property_Area'],\n",
       "      dtype='object')"
      ]
     },
     "execution_count": 121,
     "metadata": {},
     "output_type": "execute_result"
    }
   ],
   "source": [
    "data.columns"
   ]
  },
  {
   "cell_type": "markdown",
   "id": "884aa2b8-7d13-4fc5-a56b-5b16adafb8aa",
   "metadata": {},
   "source": [
    "Check for Nulls"
   ]
  },
  {
   "cell_type": "code",
   "execution_count": 123,
   "id": "f2dd8166-9643-4c53-8db0-c65431b705fc",
   "metadata": {},
   "outputs": [
    {
     "data": {
      "text/plain": [
       "Married                     0\n",
       "Dependents                  0\n",
       "Education                   0\n",
       "Self_Employed               0\n",
       "ApplicantIncome_Annual      0\n",
       "CoapplicantIncome_Annual    0\n",
       "TotalFamilyIncome_Annual    0\n",
       "LoanAmount                  0\n",
       "Loan_Amount_Term_Year       0\n",
       "Credit_History              0\n",
       "Property_Area               0\n",
       "dtype: int64"
      ]
     },
     "execution_count": 123,
     "metadata": {},
     "output_type": "execute_result"
    }
   ],
   "source": [
    "data.isna().sum()"
   ]
  },
  {
   "cell_type": "code",
   "execution_count": 125,
   "id": "a48740dd-5fe8-4a4e-915f-fd34d0448d97",
   "metadata": {},
   "outputs": [],
   "source": [
    "# Ensure 'LoanAmount' is numeric, coerce errors to NaN and drop rows with NaN values\n",
    "data['LoanAmount'] = pd.to_numeric(data['LoanAmount'], errors='coerce')\n",
    "data.dropna(subset=['LoanAmount'], inplace=True)"
   ]
  },
  {
   "cell_type": "code",
   "execution_count": 127,
   "id": "7185ea26-6067-4259-bc3b-919748143cda",
   "metadata": {},
   "outputs": [],
   "source": [
    "# Convert the dataframe to TabularDataset (AutoGluon format)\n",
    "loan_tabular = TabularDataset(data)"
   ]
  },
  {
   "cell_type": "code",
   "execution_count": 129,
   "id": "cc6d38d7-86f4-4845-ae88-d9739d8f0b14",
   "metadata": {},
   "outputs": [
    {
     "data": {
      "text/html": [
       "<div>\n",
       "<style scoped>\n",
       "    .dataframe tbody tr th:only-of-type {\n",
       "        vertical-align: middle;\n",
       "    }\n",
       "\n",
       "    .dataframe tbody tr th {\n",
       "        vertical-align: top;\n",
       "    }\n",
       "\n",
       "    .dataframe thead th {\n",
       "        text-align: right;\n",
       "    }\n",
       "</style>\n",
       "<table border=\"1\" class=\"dataframe\">\n",
       "  <thead>\n",
       "    <tr style=\"text-align: right;\">\n",
       "      <th></th>\n",
       "      <th>Married</th>\n",
       "      <th>Dependents</th>\n",
       "      <th>Education</th>\n",
       "      <th>Self_Employed</th>\n",
       "      <th>ApplicantIncome_Annual</th>\n",
       "      <th>CoapplicantIncome_Annual</th>\n",
       "      <th>TotalFamilyIncome_Annual</th>\n",
       "      <th>LoanAmount</th>\n",
       "      <th>Loan_Amount_Term_Year</th>\n",
       "      <th>Credit_History</th>\n",
       "      <th>Property_Area</th>\n",
       "    </tr>\n",
       "  </thead>\n",
       "  <tbody>\n",
       "    <tr>\n",
       "      <th>0</th>\n",
       "      <td>No</td>\n",
       "      <td>0</td>\n",
       "      <td>Graduate</td>\n",
       "      <td>No</td>\n",
       "      <td>58490</td>\n",
       "      <td>0.0</td>\n",
       "      <td>58490.0</td>\n",
       "      <td>120000</td>\n",
       "      <td>6</td>\n",
       "      <td>Yes</td>\n",
       "      <td>Urban</td>\n",
       "    </tr>\n",
       "    <tr>\n",
       "      <th>1</th>\n",
       "      <td>Yes</td>\n",
       "      <td>1</td>\n",
       "      <td>Graduate</td>\n",
       "      <td>No</td>\n",
       "      <td>45830</td>\n",
       "      <td>15080.0</td>\n",
       "      <td>60910.0</td>\n",
       "      <td>128000</td>\n",
       "      <td>6</td>\n",
       "      <td>Yes</td>\n",
       "      <td>Rural</td>\n",
       "    </tr>\n",
       "    <tr>\n",
       "      <th>2</th>\n",
       "      <td>Yes</td>\n",
       "      <td>0</td>\n",
       "      <td>Graduate</td>\n",
       "      <td>Yes</td>\n",
       "      <td>30000</td>\n",
       "      <td>0.0</td>\n",
       "      <td>30000.0</td>\n",
       "      <td>66000</td>\n",
       "      <td>6</td>\n",
       "      <td>Yes</td>\n",
       "      <td>Urban</td>\n",
       "    </tr>\n",
       "    <tr>\n",
       "      <th>3</th>\n",
       "      <td>Yes</td>\n",
       "      <td>0</td>\n",
       "      <td>Not Graduate</td>\n",
       "      <td>No</td>\n",
       "      <td>25830</td>\n",
       "      <td>23580.0</td>\n",
       "      <td>49410.0</td>\n",
       "      <td>120000</td>\n",
       "      <td>6</td>\n",
       "      <td>Yes</td>\n",
       "      <td>Urban</td>\n",
       "    </tr>\n",
       "    <tr>\n",
       "      <th>4</th>\n",
       "      <td>No</td>\n",
       "      <td>0</td>\n",
       "      <td>Graduate</td>\n",
       "      <td>No</td>\n",
       "      <td>60000</td>\n",
       "      <td>0.0</td>\n",
       "      <td>60000.0</td>\n",
       "      <td>141000</td>\n",
       "      <td>6</td>\n",
       "      <td>Yes</td>\n",
       "      <td>Urban</td>\n",
       "    </tr>\n",
       "  </tbody>\n",
       "</table>\n",
       "</div>"
      ],
      "text/plain": [
       "  Married  Dependents     Education Self_Employed  ApplicantIncome_Annual  \\\n",
       "0      No           0      Graduate            No                   58490   \n",
       "1     Yes           1      Graduate            No                   45830   \n",
       "2     Yes           0      Graduate           Yes                   30000   \n",
       "3     Yes           0  Not Graduate            No                   25830   \n",
       "4      No           0      Graduate            No                   60000   \n",
       "\n",
       "   CoapplicantIncome_Annual  TotalFamilyIncome_Annual  LoanAmount  \\\n",
       "0                       0.0                   58490.0      120000   \n",
       "1                   15080.0                   60910.0      128000   \n",
       "2                       0.0                   30000.0       66000   \n",
       "3                   23580.0                   49410.0      120000   \n",
       "4                       0.0                   60000.0      141000   \n",
       "\n",
       "   Loan_Amount_Term_Year Credit_History Property_Area  \n",
       "0                      6            Yes         Urban  \n",
       "1                      6            Yes         Rural  \n",
       "2                      6            Yes         Urban  \n",
       "3                      6            Yes         Urban  \n",
       "4                      6            Yes         Urban  "
      ]
     },
     "execution_count": 129,
     "metadata": {},
     "output_type": "execute_result"
    }
   ],
   "source": [
    "# Display the first few rows of the dataset\n",
    "loan_tabular.head()"
   ]
  },
  {
   "cell_type": "markdown",
   "id": "5ce5dbe8-268d-40bd-9b0f-fcd1f6ae5c7f",
   "metadata": {},
   "source": [
    "Prepare Data"
   ]
  },
  {
   "cell_type": "code",
   "execution_count": 132,
   "id": "95b9f3d8-a8eb-4430-b69b-4c76080eda6d",
   "metadata": {},
   "outputs": [],
   "source": [
    "data = data.copy()"
   ]
  },
  {
   "cell_type": "code",
   "execution_count": 134,
   "id": "58950d82-67bd-4a8e-a636-f5d6c140f504",
   "metadata": {},
   "outputs": [
    {
     "data": {
      "text/plain": [
       "LoanAmount\n",
       "120000    22\n",
       "110000    17\n",
       "100000    15\n",
       "187000    12\n",
       "160000    12\n",
       "          ..\n",
       "72000      1\n",
       "240000     1\n",
       "214000     1\n",
       "59000      1\n",
       "253000     1\n",
       "Name: count, Length: 207, dtype: int64"
      ]
     },
     "execution_count": 134,
     "metadata": {},
     "output_type": "execute_result"
    }
   ],
   "source": [
    "data['LoanAmount'].value_counts()"
   ]
  },
  {
   "cell_type": "code",
   "execution_count": 136,
   "id": "da64998d-cb95-4936-9d24-05e452d38a86",
   "metadata": {},
   "outputs": [
    {
     "data": {
      "text/plain": [
       "LoanAmount\n",
       "120000    0.035831\n",
       "110000    0.027687\n",
       "100000    0.024430\n",
       "187000    0.019544\n",
       "160000    0.019544\n",
       "            ...   \n",
       "72000     0.001629\n",
       "240000    0.001629\n",
       "214000    0.001629\n",
       "59000     0.001629\n",
       "253000    0.001629\n",
       "Name: count, Length: 207, dtype: float64"
      ]
     },
     "execution_count": 136,
     "metadata": {},
     "output_type": "execute_result"
    }
   ],
   "source": [
    "data['LoanAmount'].value_counts()/data.shape[0]"
   ]
  },
  {
   "cell_type": "markdown",
   "id": "1379d949-74f9-4e69-8fe7-d1bb229f25cc",
   "metadata": {},
   "source": [
    "Split the data into train and test sets"
   ]
  },
  {
   "cell_type": "code",
   "execution_count": 139,
   "id": "6782d84f-7e2e-4b1d-bb59-f20c3e934129",
   "metadata": {},
   "outputs": [],
   "source": [
    "# Remove classes that occur less than twice\n",
    "value_counts = data['LoanAmount'].value_counts()\n",
    "valid_classes = value_counts[value_counts >= 2].index\n",
    "filtered_data = data[data['LoanAmount'].isin(valid_classes)]\n",
    "\n",
    "# Train Test Split\n",
    "train_df, test_df = train_test_split(\n",
    "    filtered_data, test_size=0.5, random_state=42, stratify=filtered_data['LoanAmount']\n",
    ")"
   ]
  },
  {
   "cell_type": "code",
   "execution_count": 143,
   "id": "54f031fc-1043-4209-9cc8-0372bc3241e3",
   "metadata": {},
   "outputs": [
    {
     "data": {
      "text/plain": [
       "LoanAmount\n",
       "120000    0.042146\n",
       "110000    0.030651\n",
       "100000    0.026820\n",
       "187000    0.022989\n",
       "160000    0.022989\n",
       "            ...   \n",
       "40000     0.003831\n",
       "216000    0.003831\n",
       "109000    0.003831\n",
       "87000     0.003831\n",
       "86000     0.003831\n",
       "Name: count, Length: 116, dtype: float64"
      ]
     },
     "execution_count": 143,
     "metadata": {},
     "output_type": "execute_result"
    }
   ],
   "source": [
    "train_df['LoanAmount'].value_counts()/train_df.shape[0]"
   ]
  },
  {
   "cell_type": "code",
   "execution_count": 145,
   "id": "5181e522-d65f-4264-b32e-e2d8fbe5581e",
   "metadata": {},
   "outputs": [],
   "source": [
    "# Create the predictor and fit the data\n",
    "predictor = TabularPredictor(label='LoanAmount', path='TotalFamilyIncome_Annual')"
   ]
  },
  {
   "cell_type": "code",
   "execution_count": 147,
   "id": "464040e8-a4a1-48eb-975d-b1487a9147c5",
   "metadata": {},
   "outputs": [
    {
     "name": "stderr",
     "output_type": "stream",
     "text": [
      "Verbosity: 2 (Standard Logging)\n",
      "=================== System Info ===================\n",
      "AutoGluon Version:  1.2\n",
      "Python Version:     3.12.4\n",
      "Operating System:   Windows\n",
      "Platform Machine:   AMD64\n",
      "Platform Version:   10.0.26100\n",
      "CPU Count:          12\n",
      "Memory Avail:       1.88 GB / 15.68 GB (12.0%)\n",
      "Disk Space Avail:   743.61 GB / 952.80 GB (78.0%)\n",
      "===================================================\n",
      "No presets specified! To achieve strong results with AutoGluon, it is recommended to use the available presets. Defaulting to `'medium'`...\n",
      "\tRecommended Presets (For more details refer to https://auto.gluon.ai/stable/tutorials/tabular/tabular-essentials.html#presets):\n",
      "\tpresets='experimental' : New in v1.2: Pre-trained foundation model + parallel fits. The absolute best accuracy without consideration for inference speed. Does not support GPU.\n",
      "\tpresets='best'         : Maximize accuracy. Recommended for most users. Use in competitions and benchmarks.\n",
      "\tpresets='high'         : Strong accuracy with fast inference speed.\n",
      "\tpresets='good'         : Good accuracy with very fast inference speed.\n",
      "\tpresets='medium'       : Fast training time, ideal for initial prototyping.\n",
      "Beginning AutoGluon training ...\n",
      "AutoGluon will save models to \"C:\\Users\\mmuib\\TotalFamilyIncome_Annual\"\n",
      "Train Data Rows:    261\n",
      "Train Data Columns: 10\n",
      "Label Column:       LoanAmount\n",
      "AutoGluon infers your prediction problem is: 'regression' (because dtype of label-column == int and many unique label-values observed).\n",
      "\tLabel info (max, min, mean, stddev): (600000, 14000, 130222.22222, 63610.02313)\n",
      "\tIf 'regression' is not the correct problem_type, please manually specify the problem_type parameter during Predictor init (You may specify problem_type as one of: ['binary', 'multiclass', 'regression', 'quantile'])\n",
      "Problem Type:       regression\n",
      "Preprocessing data ...\n",
      "Using Feature Generators to preprocess the data ...\n",
      "Fitting AutoMLPipelineFeatureGenerator...\n",
      "\tAvailable Memory:                    1930.43 MB\n",
      "\tTrain Data (Original)  Memory Usage: 0.08 MB (0.0% of available memory)\n",
      "\tInferring data type of each feature based on column values. Set feature_metadata_in to manually specify special dtypes of the features.\n",
      "\tStage 1 Generators:\n",
      "\t\tFitting AsTypeFeatureGenerator...\n",
      "\t\t\tNote: Converting 4 features to boolean dtype as they only contain 2 unique values.\n",
      "\tStage 2 Generators:\n",
      "\t\tFitting FillNaFeatureGenerator...\n",
      "\tStage 3 Generators:\n",
      "\t\tFitting IdentityFeatureGenerator...\n",
      "\t\tFitting CategoryFeatureGenerator...\n",
      "\t\t\tFitting CategoryMemoryMinimizeFeatureGenerator...\n",
      "\tStage 4 Generators:\n",
      "\t\tFitting DropUniqueFeatureGenerator...\n",
      "\tStage 5 Generators:\n",
      "\t\tFitting DropDuplicatesFeatureGenerator...\n",
      "\tTypes of features in original data (raw dtype, special dtypes):\n",
      "\t\t('float', [])  : 2 | ['CoapplicantIncome_Annual', 'TotalFamilyIncome_Annual']\n",
      "\t\t('int', [])    : 3 | ['Dependents', 'ApplicantIncome_Annual', 'Loan_Amount_Term_Year']\n",
      "\t\t('object', []) : 5 | ['Married', 'Education', 'Self_Employed', 'Credit_History', 'Property_Area']\n",
      "\tTypes of features in processed data (raw dtype, special dtypes):\n",
      "\t\t('category', [])  : 1 | ['Property_Area']\n",
      "\t\t('float', [])     : 2 | ['CoapplicantIncome_Annual', 'TotalFamilyIncome_Annual']\n",
      "\t\t('int', [])       : 3 | ['Dependents', 'ApplicantIncome_Annual', 'Loan_Amount_Term_Year']\n",
      "\t\t('int', ['bool']) : 4 | ['Married', 'Education', 'Self_Employed', 'Credit_History']\n",
      "\t0.1s = Fit runtime\n",
      "\t10 features in original data used to generate 10 features in processed data.\n",
      "\tTrain Data (Processed) Memory Usage: 0.01 MB (0.0% of available memory)\n",
      "Data preprocessing and feature engineering runtime = 0.18s ...\n",
      "AutoGluon will gauge predictive performance using evaluation metric: 'root_mean_squared_error'\n",
      "\tThis metric's sign has been flipped to adhere to being higher_is_better. The metric score can be multiplied by -1 to get the metric value.\n",
      "\tTo change this, specify the eval_metric parameter of Predictor()\n",
      "Automatically generating train/validation split with holdout_frac=0.2, Train Rows: 208, Val Rows: 53\n",
      "User-specified model hyperparameters to be fit:\n",
      "{\n",
      "\t'NN_TORCH': [{}],\n",
      "\t'GBM': [{'extra_trees': True, 'ag_args': {'name_suffix': 'XT'}}, {}, {'learning_rate': 0.03, 'num_leaves': 128, 'feature_fraction': 0.9, 'min_data_in_leaf': 3, 'ag_args': {'name_suffix': 'Large', 'priority': 0, 'hyperparameter_tune_kwargs': None}}],\n",
      "\t'CAT': [{}],\n",
      "\t'XGB': [{}],\n",
      "\t'FASTAI': [{}],\n",
      "\t'RF': [{'criterion': 'gini', 'ag_args': {'name_suffix': 'Gini', 'problem_types': ['binary', 'multiclass']}}, {'criterion': 'entropy', 'ag_args': {'name_suffix': 'Entr', 'problem_types': ['binary', 'multiclass']}}, {'criterion': 'squared_error', 'ag_args': {'name_suffix': 'MSE', 'problem_types': ['regression', 'quantile']}}],\n",
      "\t'XT': [{'criterion': 'gini', 'ag_args': {'name_suffix': 'Gini', 'problem_types': ['binary', 'multiclass']}}, {'criterion': 'entropy', 'ag_args': {'name_suffix': 'Entr', 'problem_types': ['binary', 'multiclass']}}, {'criterion': 'squared_error', 'ag_args': {'name_suffix': 'MSE', 'problem_types': ['regression', 'quantile']}}],\n",
      "\t'KNN': [{'weights': 'uniform', 'ag_args': {'name_suffix': 'Unif'}}, {'weights': 'distance', 'ag_args': {'name_suffix': 'Dist'}}],\n",
      "}\n",
      "Fitting 11 L1 models, fit_strategy=\"sequential\" ...\n",
      "Fitting model: KNeighborsUnif ...\n",
      "\t-45963.8414\t = Validation score   (-root_mean_squared_error)\n",
      "\t0.01s\t = Training   runtime\n",
      "\t0.03s\t = Validation runtime\n",
      "Fitting model: KNeighborsDist ...\n",
      "\t-52627.6698\t = Validation score   (-root_mean_squared_error)\n",
      "\t0.01s\t = Training   runtime\n",
      "\t0.03s\t = Validation runtime\n",
      "Fitting model: LightGBMXT ...\n",
      "\t-43599.4493\t = Validation score   (-root_mean_squared_error)\n",
      "\t0.37s\t = Training   runtime\n",
      "\t0.01s\t = Validation runtime\n",
      "Fitting model: LightGBM ...\n",
      "\t-46118.7128\t = Validation score   (-root_mean_squared_error)\n",
      "\t0.37s\t = Training   runtime\n",
      "\t0.01s\t = Validation runtime\n",
      "Fitting model: RandomForestMSE ...\n",
      "\t-51851.6031\t = Validation score   (-root_mean_squared_error)\n",
      "\t1.4s\t = Training   runtime\n",
      "\t0.08s\t = Validation runtime\n",
      "Fitting model: CatBoost ...\n",
      "\t-46443.1295\t = Validation score   (-root_mean_squared_error)\n",
      "\t32.83s\t = Training   runtime\n",
      "\t0.0s\t = Validation runtime\n",
      "Fitting model: ExtraTreesMSE ...\n",
      "\t-51638.266\t = Validation score   (-root_mean_squared_error)\n",
      "\t1.28s\t = Training   runtime\n",
      "\t0.09s\t = Validation runtime\n",
      "Fitting model: NeuralNetFastAI ...\n",
      "No improvement since epoch 3: early stopping\n",
      "\t-44617.1223\t = Validation score   (-root_mean_squared_error)\n",
      "\t4.16s\t = Training   runtime\n",
      "\t0.03s\t = Validation runtime\n",
      "Fitting model: XGBoost ...\n",
      "\t-44065.1218\t = Validation score   (-root_mean_squared_error)\n",
      "\t0.45s\t = Training   runtime\n",
      "\t0.01s\t = Validation runtime\n",
      "Fitting model: NeuralNetTorch ...\n",
      "\tWarning: Exception caused NeuralNetTorch to fail during training... Skipping this model.\n",
      "\t\tColumnTransformer.__init__() got an unexpected keyword argument 'force_int_remainder_cols'\n",
      "Detailed Traceback:\n",
      "Traceback (most recent call last):\n",
      "  File \"C:\\Users\\mmuib\\anaconda3\\Lib\\site-packages\\autogluon\\core\\trainer\\abstract_trainer.py\", line 2106, in _train_and_save\n",
      "    model = self._train_single(**model_fit_kwargs)\n",
      "            ^^^^^^^^^^^^^^^^^^^^^^^^^^^^^^^^^^^^^^\n",
      "  File \"C:\\Users\\mmuib\\anaconda3\\Lib\\site-packages\\autogluon\\core\\trainer\\abstract_trainer.py\", line 1993, in _train_single\n",
      "    model = model.fit(X=X, y=y, X_val=X_val, y_val=y_val, X_test=X_test, y_test=y_test, total_resources=total_resources, **model_fit_kwargs)\n",
      "            ^^^^^^^^^^^^^^^^^^^^^^^^^^^^^^^^^^^^^^^^^^^^^^^^^^^^^^^^^^^^^^^^^^^^^^^^^^^^^^^^^^^^^^^^^^^^^^^^^^^^^^^^^^^^^^^^^^^^^^^^^^^^^^^^\n",
      "  File \"C:\\Users\\mmuib\\anaconda3\\Lib\\site-packages\\autogluon\\core\\models\\abstract\\abstract_model.py\", line 925, in fit\n",
      "    out = self._fit(**kwargs)\n",
      "          ^^^^^^^^^^^^^^^^^^^\n",
      "  File \"C:\\Users\\mmuib\\anaconda3\\Lib\\site-packages\\autogluon\\tabular\\models\\tabular_nn\\torch\\tabular_nn_torch.py\", line 201, in _fit\n",
      "    train_dataset = self._generate_dataset(X, y, train_params=processor_kwargs, is_train=True)\n",
      "                    ^^^^^^^^^^^^^^^^^^^^^^^^^^^^^^^^^^^^^^^^^^^^^^^^^^^^^^^^^^^^^^^^^^^^^^^^^^\n",
      "  File \"C:\\Users\\mmuib\\anaconda3\\Lib\\site-packages\\autogluon\\tabular\\models\\tabular_nn\\torch\\tabular_nn_torch.py\", line 669, in _generate_dataset\n",
      "    dataset = self._process_train_data(\n",
      "              ^^^^^^^^^^^^^^^^^^^^^^^^^\n",
      "  File \"C:\\Users\\mmuib\\anaconda3\\Lib\\site-packages\\autogluon\\tabular\\models\\tabular_nn\\torch\\tabular_nn_torch.py\", line 734, in _process_train_data\n",
      "    self.processor = create_preprocessor(\n",
      "                     ^^^^^^^^^^^^^^^^^^^^\n",
      "  File \"C:\\Users\\mmuib\\anaconda3\\Lib\\site-packages\\autogluon\\tabular\\models\\tabular_nn\\utils\\data_preprocessor.py\", line 40, in create_preprocessor\n",
      "    return ColumnTransformer(\n",
      "           ^^^^^^^^^^^^^^^^^^\n",
      "TypeError: ColumnTransformer.__init__() got an unexpected keyword argument 'force_int_remainder_cols'\n",
      "Fitting model: LightGBMLarge ...\n",
      "\t-45812.6037\t = Validation score   (-root_mean_squared_error)\n",
      "\t0.93s\t = Training   runtime\n",
      "\t0.01s\t = Validation runtime\n",
      "Fitting model: WeightedEnsemble_L2 ...\n",
      "\tEnsemble Weights: {'NeuralNetFastAI': 0.353, 'LightGBMXT': 0.235, 'XGBoost': 0.235, 'KNeighborsUnif': 0.176}\n",
      "\t-42620.4047\t = Validation score   (-root_mean_squared_error)\n",
      "\t0.02s\t = Training   runtime\n",
      "\t0.0s\t = Validation runtime\n",
      "AutoGluon training complete, total runtime = 43.23s ... Best model: WeightedEnsemble_L2 | Estimated inference throughput: 617.9 rows/s (53 batch size)\n",
      "TabularPredictor saved. To load, use: predictor = TabularPredictor.load(\"C:\\Users\\mmuib\\TotalFamilyIncome_Annual\")\n"
     ]
    },
    {
     "data": {
      "text/plain": [
       "<autogluon.tabular.predictor.predictor.TabularPredictor at 0x26e454c3710>"
      ]
     },
     "execution_count": 147,
     "metadata": {},
     "output_type": "execute_result"
    }
   ],
   "source": [
    "# observe the output\n",
    "predictor.fit(train_df)"
   ]
  },
  {
   "cell_type": "code",
   "execution_count": 149,
   "id": "e5f77ca2-feeb-42dd-a4ee-d608ec8ef0f8",
   "metadata": {},
   "outputs": [
    {
     "name": "stderr",
     "output_type": "stream",
     "text": [
      "C:\\Users\\mmuib\\anaconda3\\Lib\\site-packages\\fastai\\learner.py:455: UserWarning: load_learner` uses Python's insecure pickle module, which can execute malicious arbitrary code when loading. Only load files you trust.\n",
      "If you only need to load model weights and optimizer state, use the safe `Learner.load` instead.\n",
      "  warn(\"load_learner` uses Python's insecure pickle module, which can execute malicious arbitrary code when loading. Only load files you trust.\\nIf you only need to load model weights and optimizer state, use the safe `Learner.load` instead.\")\n"
     ]
    },
    {
     "name": "stdout",
     "output_type": "stream",
     "text": [
      "*** Summary of fit() ***\n",
      "Estimated performance of each model:\n",
      "                  model     score_val              eval_metric  pred_time_val   fit_time  pred_time_val_marginal  fit_time_marginal  stack_level  can_infer  fit_order\n",
      "0   WeightedEnsemble_L2 -42620.404721  root_mean_squared_error       0.085774   5.014682                0.000000           0.016858            2       True         11\n",
      "1            LightGBMXT -43599.449324  root_mean_squared_error       0.011093   0.373071                0.011093           0.373071            1       True          3\n",
      "2               XGBoost -44065.121806  root_mean_squared_error       0.008032   0.454339                0.008032           0.454339            1       True          9\n",
      "3       NeuralNetFastAI -44617.122252  root_mean_squared_error       0.031698   4.157384                0.031698           4.157384            1       True          8\n",
      "4         LightGBMLarge -45812.603740  root_mean_squared_error       0.009382   0.931563                0.009382           0.931563            1       True         10\n",
      "5        KNeighborsUnif -45963.841408  root_mean_squared_error       0.034951   0.013029                0.034951           0.013029            1       True          1\n",
      "6              LightGBM -46118.712785  root_mean_squared_error       0.011813   0.370788                0.011813           0.370788            1       True          4\n",
      "7              CatBoost -46443.129459  root_mean_squared_error       0.003054  32.828306                0.003054          32.828306            1       True          6\n",
      "8         ExtraTreesMSE -51638.265986  root_mean_squared_error       0.091718   1.281801                0.091718           1.281801            1       True          7\n",
      "9       RandomForestMSE -51851.603109  root_mean_squared_error       0.083766   1.404327                0.083766           1.404327            1       True          5\n",
      "10       KNeighborsDist -52627.669795  root_mean_squared_error       0.029039   0.006884                0.029039           0.006884            1       True          2\n",
      "Number of models trained: 11\n",
      "Types of models trained:\n",
      "{'XGBoostModel', 'WeightedEnsembleModel', 'CatBoostModel', 'XTModel', 'RFModel', 'LGBModel', 'NNFastAiTabularModel', 'KNNModel'}\n",
      "Bagging used: False \n",
      "Multi-layer stack-ensembling used: False \n",
      "Feature Metadata (Processed):\n",
      "(raw dtype, special dtypes):\n",
      "('category', [])  : 1 | ['Property_Area']\n",
      "('float', [])     : 2 | ['CoapplicantIncome_Annual', 'TotalFamilyIncome_Annual']\n",
      "('int', [])       : 3 | ['Dependents', 'ApplicantIncome_Annual', 'Loan_Amount_Term_Year']\n",
      "('int', ['bool']) : 4 | ['Married', 'Education', 'Self_Employed', 'Credit_History']\n",
      "Plot summary of models saved to file: C:\\Users\\mmuib\\TotalFamilyIncome_AnnualSummaryOfModels.html\n",
      "*** End of fit() summary ***\n"
     ]
    },
    {
     "data": {
      "text/plain": [
       "{'model_types': {'KNeighborsUnif': 'KNNModel',\n",
       "  'KNeighborsDist': 'KNNModel',\n",
       "  'LightGBMXT': 'LGBModel',\n",
       "  'LightGBM': 'LGBModel',\n",
       "  'RandomForestMSE': 'RFModel',\n",
       "  'CatBoost': 'CatBoostModel',\n",
       "  'ExtraTreesMSE': 'XTModel',\n",
       "  'NeuralNetFastAI': 'NNFastAiTabularModel',\n",
       "  'XGBoost': 'XGBoostModel',\n",
       "  'LightGBMLarge': 'LGBModel',\n",
       "  'WeightedEnsemble_L2': 'WeightedEnsembleModel'},\n",
       " 'model_performance': {'KNeighborsUnif': -45963.841408014756,\n",
       "  'KNeighborsDist': -52627.66979529747,\n",
       "  'LightGBMXT': -43599.44932416257,\n",
       "  'LightGBM': -46118.71278463058,\n",
       "  'RandomForestMSE': -51851.603108692536,\n",
       "  'CatBoost': -46443.1294585451,\n",
       "  'ExtraTreesMSE': -51638.26598632675,\n",
       "  'NeuralNetFastAI': -44617.12225187497,\n",
       "  'XGBoost': -44065.121806476025,\n",
       "  'LightGBMLarge': -45812.603740494465,\n",
       "  'WeightedEnsemble_L2': -42620.404720581755},\n",
       " 'model_best': 'WeightedEnsemble_L2',\n",
       " 'model_paths': {'KNeighborsUnif': ['KNeighborsUnif'],\n",
       "  'KNeighborsDist': ['KNeighborsDist'],\n",
       "  'LightGBMXT': ['LightGBMXT'],\n",
       "  'LightGBM': ['LightGBM'],\n",
       "  'RandomForestMSE': ['RandomForestMSE'],\n",
       "  'CatBoost': ['CatBoost'],\n",
       "  'ExtraTreesMSE': ['ExtraTreesMSE'],\n",
       "  'NeuralNetFastAI': ['NeuralNetFastAI'],\n",
       "  'XGBoost': ['XGBoost'],\n",
       "  'LightGBMLarge': ['LightGBMLarge'],\n",
       "  'WeightedEnsemble_L2': ['WeightedEnsemble_L2']},\n",
       " 'model_fit_times': {'KNeighborsUnif': 0.013029336929321289,\n",
       "  'KNeighborsDist': 0.0068836212158203125,\n",
       "  'LightGBMXT': 0.37307071685791016,\n",
       "  'LightGBM': 0.3707883358001709,\n",
       "  'RandomForestMSE': 1.404327154159546,\n",
       "  'CatBoost': 32.82830619812012,\n",
       "  'ExtraTreesMSE': 1.2818009853363037,\n",
       "  'NeuralNetFastAI': 4.157384395599365,\n",
       "  'XGBoost': 0.45433926582336426,\n",
       "  'LightGBMLarge': 0.9315626621246338,\n",
       "  'WeightedEnsemble_L2': 0.016858339309692383},\n",
       " 'model_pred_times': {'KNeighborsUnif': 0.03495144844055176,\n",
       "  'KNeighborsDist': 0.02903890609741211,\n",
       "  'LightGBMXT': 0.011092901229858398,\n",
       "  'LightGBM': 0.011813163757324219,\n",
       "  'RandomForestMSE': 0.08376550674438477,\n",
       "  'CatBoost': 0.0030536651611328125,\n",
       "  'ExtraTreesMSE': 0.09171795845031738,\n",
       "  'NeuralNetFastAI': 0.031697988510131836,\n",
       "  'XGBoost': 0.008032083511352539,\n",
       "  'LightGBMLarge': 0.009382486343383789,\n",
       "  'WeightedEnsemble_L2': 0.0},\n",
       " 'num_bag_folds': 0,\n",
       " 'max_stack_level': 2,\n",
       " 'model_hyperparams': {'KNeighborsUnif': {'weights': 'uniform'},\n",
       "  'KNeighborsDist': {'weights': 'distance'},\n",
       "  'LightGBMXT': {'learning_rate': 0.05, 'extra_trees': True},\n",
       "  'LightGBM': {'learning_rate': 0.05},\n",
       "  'RandomForestMSE': {'n_estimators': 300,\n",
       "   'max_leaf_nodes': 15000,\n",
       "   'n_jobs': -1,\n",
       "   'random_state': 0,\n",
       "   'bootstrap': True,\n",
       "   'criterion': 'squared_error'},\n",
       "  'CatBoost': {'iterations': 10000,\n",
       "   'learning_rate': 0.05,\n",
       "   'random_seed': 0,\n",
       "   'allow_writing_files': False,\n",
       "   'eval_metric': 'RMSE'},\n",
       "  'ExtraTreesMSE': {'n_estimators': 300,\n",
       "   'max_leaf_nodes': 15000,\n",
       "   'n_jobs': -1,\n",
       "   'random_state': 0,\n",
       "   'bootstrap': True,\n",
       "   'criterion': 'squared_error'},\n",
       "  'NeuralNetFastAI': {'layers': None,\n",
       "   'emb_drop': 0.1,\n",
       "   'ps': 0.1,\n",
       "   'bs': 'auto',\n",
       "   'lr': 0.01,\n",
       "   'epochs': 'auto',\n",
       "   'early.stopping.min_delta': 0.0001,\n",
       "   'early.stopping.patience': 20,\n",
       "   'smoothing': 0.0},\n",
       "  'XGBoost': {'n_estimators': 10000,\n",
       "   'learning_rate': 0.1,\n",
       "   'n_jobs': -1,\n",
       "   'proc.max_category_levels': 100,\n",
       "   'objective': 'reg:squarederror',\n",
       "   'booster': 'gbtree'},\n",
       "  'LightGBMLarge': {'learning_rate': 0.03,\n",
       "   'num_leaves': 128,\n",
       "   'feature_fraction': 0.9,\n",
       "   'min_data_in_leaf': 3},\n",
       "  'WeightedEnsemble_L2': {'use_orig_features': False,\n",
       "   'valid_stacker': True,\n",
       "   'max_base_models': 0,\n",
       "   'max_base_models_per_type': 'auto',\n",
       "   'save_bag_folds': True}},\n",
       " 'leaderboard':                   model     score_val              eval_metric  pred_time_val  \\\n",
       " 0   WeightedEnsemble_L2 -42620.404721  root_mean_squared_error       0.085774   \n",
       " 1            LightGBMXT -43599.449324  root_mean_squared_error       0.011093   \n",
       " 2               XGBoost -44065.121806  root_mean_squared_error       0.008032   \n",
       " 3       NeuralNetFastAI -44617.122252  root_mean_squared_error       0.031698   \n",
       " 4         LightGBMLarge -45812.603740  root_mean_squared_error       0.009382   \n",
       " 5        KNeighborsUnif -45963.841408  root_mean_squared_error       0.034951   \n",
       " 6              LightGBM -46118.712785  root_mean_squared_error       0.011813   \n",
       " 7              CatBoost -46443.129459  root_mean_squared_error       0.003054   \n",
       " 8         ExtraTreesMSE -51638.265986  root_mean_squared_error       0.091718   \n",
       " 9       RandomForestMSE -51851.603109  root_mean_squared_error       0.083766   \n",
       " 10       KNeighborsDist -52627.669795  root_mean_squared_error       0.029039   \n",
       " \n",
       "      fit_time  pred_time_val_marginal  fit_time_marginal  stack_level  \\\n",
       " 0    5.014682                0.000000           0.016858            2   \n",
       " 1    0.373071                0.011093           0.373071            1   \n",
       " 2    0.454339                0.008032           0.454339            1   \n",
       " 3    4.157384                0.031698           4.157384            1   \n",
       " 4    0.931563                0.009382           0.931563            1   \n",
       " 5    0.013029                0.034951           0.013029            1   \n",
       " 6    0.370788                0.011813           0.370788            1   \n",
       " 7   32.828306                0.003054          32.828306            1   \n",
       " 8    1.281801                0.091718           1.281801            1   \n",
       " 9    1.404327                0.083766           1.404327            1   \n",
       " 10   0.006884                0.029039           0.006884            1   \n",
       " \n",
       "     can_infer  fit_order  \n",
       " 0        True         11  \n",
       " 1        True          3  \n",
       " 2        True          9  \n",
       " 3        True          8  \n",
       " 4        True         10  \n",
       " 5        True          1  \n",
       " 6        True          4  \n",
       " 7        True          6  \n",
       " 8        True          7  \n",
       " 9        True          5  \n",
       " 10       True          2  }"
      ]
     },
     "execution_count": 149,
     "metadata": {},
     "output_type": "execute_result"
    }
   ],
   "source": [
    "# summary\n",
    "predictor.fit_summary()"
   ]
  },
  {
   "cell_type": "code",
   "execution_count": 151,
   "id": "321b3f7a-1c33-4537-9b54-ada8069799a4",
   "metadata": {},
   "outputs": [
    {
     "data": {
      "text/plain": [
       "Index(['Married', 'Dependents', 'Education', 'Self_Employed',\n",
       "       'ApplicantIncome_Annual', 'CoapplicantIncome_Annual',\n",
       "       'TotalFamilyIncome_Annual', 'LoanAmount', 'Loan_Amount_Term_Year',\n",
       "       'Credit_History', 'Property_Area'],\n",
       "      dtype='object')"
      ]
     },
     "execution_count": 151,
     "metadata": {},
     "output_type": "execute_result"
    }
   ],
   "source": [
    "test_df.columns"
   ]
  },
  {
   "cell_type": "markdown",
   "id": "f81c57c0-4b0f-4b39-bb09-c5fe80673b3a",
   "metadata": {},
   "source": [
    "Prediction"
   ]
  },
  {
   "cell_type": "code",
   "execution_count": 154,
   "id": "974a3577-c48d-4f44-a31c-be86503f6e43",
   "metadata": {},
   "outputs": [],
   "source": [
    "# validate the model against unseen data\n",
    "y_test = test_df['LoanAmount']\n",
    "test_data = test_df.drop(columns=['LoanAmount'])"
   ]
  },
  {
   "cell_type": "code",
   "execution_count": 156,
   "id": "e4cb6d7d-7961-4014-9730-3d467d42352e",
   "metadata": {},
   "outputs": [
    {
     "name": "stderr",
     "output_type": "stream",
     "text": [
      "C:\\Users\\mmuib\\anaconda3\\Lib\\site-packages\\fastai\\learner.py:455: UserWarning: load_learner` uses Python's insecure pickle module, which can execute malicious arbitrary code when loading. Only load files you trust.\n",
      "If you only need to load model weights and optimizer state, use the safe `Learner.load` instead.\n",
      "  warn(\"load_learner` uses Python's insecure pickle module, which can execute malicious arbitrary code when loading. Only load files you trust.\\nIf you only need to load model weights and optimizer state, use the safe `Learner.load` instead.\")\n"
     ]
    }
   ],
   "source": [
    "y_pred = predictor.predict(test_data)"
   ]
  },
  {
   "cell_type": "markdown",
   "id": "d875188b-1f92-4b91-b167-496524e45c7c",
   "metadata": {},
   "source": [
    "Evaluation"
   ]
  },
  {
   "cell_type": "code",
   "execution_count": 159,
   "id": "9f3d6ece-034d-4a58-a8a1-0230ce715ba3",
   "metadata": {},
   "outputs": [],
   "source": [
    "metrics = predictor.evaluate_predictions(y_true=y_test, y_pred=y_pred, auxiliary_metrics=True)"
   ]
  },
  {
   "cell_type": "code",
   "execution_count": 161,
   "id": "47b6938a-8f22-47ba-8050-a8acdecbdbba",
   "metadata": {},
   "outputs": [
    {
     "data": {
      "text/plain": [
       "{'root_mean_squared_error': 51065.14402923727,\n",
       " 'mean_squared_error': 2607648934.726747,\n",
       " 'mean_absolute_error': 30475.769233062976,\n",
       " 'r2': 0.18717419134411684,\n",
       " 'pearsonr': 0.43375365252243825,\n",
       " 'median_absolute_error': 20954.765625}"
      ]
     },
     "execution_count": 161,
     "metadata": {},
     "output_type": "execute_result"
    }
   ],
   "source": [
    "# Using absolute values for rmse, mse, and median absolute error\n",
    "\n",
    "absolute_metrics = {key:abs(value) for key, value in metrics.items()}\n",
    "absolute_metrics"
   ]
  },
  {
   "cell_type": "code",
   "execution_count": 163,
   "id": "2a7b3ad7-e2b3-4b8b-bea8-1f72ada34a87",
   "metadata": {},
   "outputs": [
    {
     "name": "stderr",
     "output_type": "stream",
     "text": [
      "Computing feature importance via permutation shuffling for 10 features using 262 rows with 5 shuffle sets...\n",
      "C:\\Users\\mmuib\\anaconda3\\Lib\\site-packages\\fastai\\learner.py:455: UserWarning: load_learner` uses Python's insecure pickle module, which can execute malicious arbitrary code when loading. Only load files you trust.\n",
      "If you only need to load model weights and optimizer state, use the safe `Learner.load` instead.\n",
      "  warn(\"load_learner` uses Python's insecure pickle module, which can execute malicious arbitrary code when loading. Only load files you trust.\\nIf you only need to load model weights and optimizer state, use the safe `Learner.load` instead.\")\n",
      "\t9.01s\t= Expected runtime (1.8s per shuffle set)\n",
      "C:\\Users\\mmuib\\anaconda3\\Lib\\site-packages\\fastai\\learner.py:455: UserWarning: load_learner` uses Python's insecure pickle module, which can execute malicious arbitrary code when loading. Only load files you trust.\n",
      "If you only need to load model weights and optimizer state, use the safe `Learner.load` instead.\n",
      "  warn(\"load_learner` uses Python's insecure pickle module, which can execute malicious arbitrary code when loading. Only load files you trust.\\nIf you only need to load model weights and optimizer state, use the safe `Learner.load` instead.\")\n",
      "C:\\Users\\mmuib\\anaconda3\\Lib\\site-packages\\fastai\\learner.py:455: UserWarning: load_learner` uses Python's insecure pickle module, which can execute malicious arbitrary code when loading. Only load files you trust.\n",
      "If you only need to load model weights and optimizer state, use the safe `Learner.load` instead.\n",
      "  warn(\"load_learner` uses Python's insecure pickle module, which can execute malicious arbitrary code when loading. Only load files you trust.\\nIf you only need to load model weights and optimizer state, use the safe `Learner.load` instead.\")\n",
      "C:\\Users\\mmuib\\anaconda3\\Lib\\site-packages\\fastai\\learner.py:455: UserWarning: load_learner` uses Python's insecure pickle module, which can execute malicious arbitrary code when loading. Only load files you trust.\n",
      "If you only need to load model weights and optimizer state, use the safe `Learner.load` instead.\n",
      "  warn(\"load_learner` uses Python's insecure pickle module, which can execute malicious arbitrary code when loading. Only load files you trust.\\nIf you only need to load model weights and optimizer state, use the safe `Learner.load` instead.\")\n",
      "C:\\Users\\mmuib\\anaconda3\\Lib\\site-packages\\fastai\\learner.py:455: UserWarning: load_learner` uses Python's insecure pickle module, which can execute malicious arbitrary code when loading. Only load files you trust.\n",
      "If you only need to load model weights and optimizer state, use the safe `Learner.load` instead.\n",
      "  warn(\"load_learner` uses Python's insecure pickle module, which can execute malicious arbitrary code when loading. Only load files you trust.\\nIf you only need to load model weights and optimizer state, use the safe `Learner.load` instead.\")\n",
      "C:\\Users\\mmuib\\anaconda3\\Lib\\site-packages\\fastai\\learner.py:455: UserWarning: load_learner` uses Python's insecure pickle module, which can execute malicious arbitrary code when loading. Only load files you trust.\n",
      "If you only need to load model weights and optimizer state, use the safe `Learner.load` instead.\n",
      "  warn(\"load_learner` uses Python's insecure pickle module, which can execute malicious arbitrary code when loading. Only load files you trust.\\nIf you only need to load model weights and optimizer state, use the safe `Learner.load` instead.\")\n",
      "\t3.55s\t= Actual runtime (Completed 5 of 5 shuffle sets)\n"
     ]
    },
    {
     "data": {
      "text/html": [
       "<div>\n",
       "<style scoped>\n",
       "    .dataframe tbody tr th:only-of-type {\n",
       "        vertical-align: middle;\n",
       "    }\n",
       "\n",
       "    .dataframe tbody tr th {\n",
       "        vertical-align: top;\n",
       "    }\n",
       "\n",
       "    .dataframe thead th {\n",
       "        text-align: right;\n",
       "    }\n",
       "</style>\n",
       "<table border=\"1\" class=\"dataframe\">\n",
       "  <thead>\n",
       "    <tr style=\"text-align: right;\">\n",
       "      <th></th>\n",
       "      <th>importance</th>\n",
       "      <th>stddev</th>\n",
       "      <th>p_value</th>\n",
       "      <th>n</th>\n",
       "      <th>p99_high</th>\n",
       "      <th>p99_low</th>\n",
       "    </tr>\n",
       "  </thead>\n",
       "  <tbody>\n",
       "    <tr>\n",
       "      <th>TotalFamilyIncome_Annual</th>\n",
       "      <td>5330.873788</td>\n",
       "      <td>997.797366</td>\n",
       "      <td>0.000141</td>\n",
       "      <td>5</td>\n",
       "      <td>7385.352355</td>\n",
       "      <td>3276.395221</td>\n",
       "    </tr>\n",
       "    <tr>\n",
       "      <th>ApplicantIncome_Annual</th>\n",
       "      <td>628.284991</td>\n",
       "      <td>1067.934134</td>\n",
       "      <td>0.129336</td>\n",
       "      <td>5</td>\n",
       "      <td>2827.176134</td>\n",
       "      <td>-1570.606152</td>\n",
       "    </tr>\n",
       "    <tr>\n",
       "      <th>CoapplicantIncome_Annual</th>\n",
       "      <td>203.676687</td>\n",
       "      <td>902.969927</td>\n",
       "      <td>0.320257</td>\n",
       "      <td>5</td>\n",
       "      <td>2062.904247</td>\n",
       "      <td>-1655.550872</td>\n",
       "    </tr>\n",
       "    <tr>\n",
       "      <th>Education</th>\n",
       "      <td>198.515695</td>\n",
       "      <td>199.164722</td>\n",
       "      <td>0.044866</td>\n",
       "      <td>5</td>\n",
       "      <td>608.598611</td>\n",
       "      <td>-211.567221</td>\n",
       "    </tr>\n",
       "    <tr>\n",
       "      <th>Loan_Amount_Term_Year</th>\n",
       "      <td>182.891438</td>\n",
       "      <td>153.472302</td>\n",
       "      <td>0.028057</td>\n",
       "      <td>5</td>\n",
       "      <td>498.893030</td>\n",
       "      <td>-133.110153</td>\n",
       "    </tr>\n",
       "    <tr>\n",
       "      <th>Married</th>\n",
       "      <td>111.510183</td>\n",
       "      <td>248.524679</td>\n",
       "      <td>0.186244</td>\n",
       "      <td>5</td>\n",
       "      <td>623.225931</td>\n",
       "      <td>-400.205565</td>\n",
       "    </tr>\n",
       "    <tr>\n",
       "      <th>Credit_History</th>\n",
       "      <td>7.524546</td>\n",
       "      <td>157.049100</td>\n",
       "      <td>0.459920</td>\n",
       "      <td>5</td>\n",
       "      <td>330.890812</td>\n",
       "      <td>-315.841721</td>\n",
       "    </tr>\n",
       "    <tr>\n",
       "      <th>Property_Area</th>\n",
       "      <td>-61.904865</td>\n",
       "      <td>59.893892</td>\n",
       "      <td>0.959035</td>\n",
       "      <td>5</td>\n",
       "      <td>61.417486</td>\n",
       "      <td>-185.227216</td>\n",
       "    </tr>\n",
       "    <tr>\n",
       "      <th>Dependents</th>\n",
       "      <td>-79.981302</td>\n",
       "      <td>567.621877</td>\n",
       "      <td>0.615772</td>\n",
       "      <td>5</td>\n",
       "      <td>1088.759988</td>\n",
       "      <td>-1248.722592</td>\n",
       "    </tr>\n",
       "    <tr>\n",
       "      <th>Self_Employed</th>\n",
       "      <td>-92.349695</td>\n",
       "      <td>435.483465</td>\n",
       "      <td>0.669954</td>\n",
       "      <td>5</td>\n",
       "      <td>804.316779</td>\n",
       "      <td>-989.016169</td>\n",
       "    </tr>\n",
       "  </tbody>\n",
       "</table>\n",
       "</div>"
      ],
      "text/plain": [
       "                           importance       stddev   p_value  n     p99_high  \\\n",
       "TotalFamilyIncome_Annual  5330.873788   997.797366  0.000141  5  7385.352355   \n",
       "ApplicantIncome_Annual     628.284991  1067.934134  0.129336  5  2827.176134   \n",
       "CoapplicantIncome_Annual   203.676687   902.969927  0.320257  5  2062.904247   \n",
       "Education                  198.515695   199.164722  0.044866  5   608.598611   \n",
       "Loan_Amount_Term_Year      182.891438   153.472302  0.028057  5   498.893030   \n",
       "Married                    111.510183   248.524679  0.186244  5   623.225931   \n",
       "Credit_History               7.524546   157.049100  0.459920  5   330.890812   \n",
       "Property_Area              -61.904865    59.893892  0.959035  5    61.417486   \n",
       "Dependents                 -79.981302   567.621877  0.615772  5  1088.759988   \n",
       "Self_Employed              -92.349695   435.483465  0.669954  5   804.316779   \n",
       "\n",
       "                              p99_low  \n",
       "TotalFamilyIncome_Annual  3276.395221  \n",
       "ApplicantIncome_Annual   -1570.606152  \n",
       "CoapplicantIncome_Annual -1655.550872  \n",
       "Education                 -211.567221  \n",
       "Loan_Amount_Term_Year     -133.110153  \n",
       "Married                   -400.205565  \n",
       "Credit_History            -315.841721  \n",
       "Property_Area             -185.227216  \n",
       "Dependents               -1248.722592  \n",
       "Self_Employed             -989.016169  "
      ]
     },
     "execution_count": 163,
     "metadata": {},
     "output_type": "execute_result"
    }
   ],
   "source": [
    "# Feature Importance\n",
    "importance = predictor.feature_importance(test_df)\n",
    "importance"
   ]
  },
  {
   "cell_type": "markdown",
   "id": "2d213365-3c25-4364-9cbb-296141336098",
   "metadata": {},
   "source": [
    "Testing/ Use Case"
   ]
  },
  {
   "cell_type": "code",
   "execution_count": 170,
   "id": "273f84e1-5a01-4f50-aac4-05740f204bd9",
   "metadata": {},
   "outputs": [],
   "source": [
    "# Use Case!\n",
    "# Adjust the lead times on the reservation, or another features and test!\n",
    "res = {\n",
    "      \"Dependents\": 1,\n",
    "       \"TotalFamilyIncome_Annual\": 80000, \n",
    "       \"LoanAmount\": 120000,\n",
    "       \"Loan_Amount_Term_Year\": 5,\n",
    "       \"Credit_History\": 1,\n",
    "       \"Property_Area\": 2\n",
    "  \n",
    "  }"
   ]
  },
  {
   "cell_type": "markdown",
   "id": "3a7fba40-435f-4d6c-889e-1ad61a8a3950",
   "metadata": {},
   "source": [
    "Visualization"
   ]
  },
  {
   "cell_type": "code",
   "execution_count": 173,
   "id": "c644e6ae-c466-4d86-b12f-f0caec4dd44e",
   "metadata": {},
   "outputs": [
    {
     "data": {
      "text/plain": [
       "count       614.000000\n",
       "mean     143151.465798\n",
       "std       85965.155824\n",
       "min        9000.000000\n",
       "25%       98250.000000\n",
       "50%      125000.000000\n",
       "75%      164750.000000\n",
       "max      700000.000000\n",
       "Name: LoanAmount, dtype: float64"
      ]
     },
     "execution_count": 173,
     "metadata": {},
     "output_type": "execute_result"
    }
   ],
   "source": [
    "data['LoanAmount'].describe()"
   ]
  },
  {
   "cell_type": "code",
   "execution_count": 175,
   "id": "bd8fe5f6-55f4-42b0-9855-ca817e4c6a7a",
   "metadata": {},
   "outputs": [
    {
     "data": {
      "image/png": "[encoded data removed]",
      "text/plain": [
       "<Figure size 640x480 with 1 Axes>"
      ]
     },
     "metadata": {},
     "output_type": "display_data"
    }
   ],
   "source": [
    "sns.boxplot(x=data['LoanAmount']);"
   ]
  },
  {
   "cell_type": "code",
   "execution_count": 177,
   "id": "e93f8434-a8b6-449d-99ff-df5fa337acfa",
   "metadata": {},
   "outputs": [
    {
     "data": {
      "image/png": "[encoded data removed]",
      "text/plain": [
       "<Figure size 1000x600 with 1 Axes>"
      ]
     },
     "metadata": {},
     "output_type": "display_data"
    }
   ],
   "source": [
    "# Convert to DataFrame for plotting\n",
    "df_metrics = pd.DataFrame(list(metrics.items()), columns=['Metric', 'Value'])\n",
    "\n",
    "# Create a bar plot (future-proofed)\n",
    "plt.figure(figsize=(10, 6))\n",
    "sns.barplot(data=df_metrics, x='Metric', y='Value', hue='Metric', palette='Blues_d', legend=False)\n",
    "plt.xticks(rotation=45, ha='right')\n",
    "plt.title('Model Evaluation Metrics')\n",
    "plt.tight_layout()\n",
    "plt.show()"
   ]
  },
  {
   "cell_type": "code",
   "execution_count": 179,
   "id": "915a713c-758a-4b27-ae69-9cc01b0c7717",
   "metadata": {},
   "outputs": [
    {
     "data": {
      "image/png": "[encoded data removed]",
      "text/plain": [
       "<Figure size 640x480 with 1 Axes>"
      ]
     },
     "metadata": {},
     "output_type": "display_data"
    }
   ],
   "source": [
    "# Extract and log-transform values (skip non-positive)\n",
    "metric_values = list(metrics.values())\n",
    "log_metrics = np.log10([value for value in metric_values if value > 0])\n",
    "\n",
    "# QQ plot\n",
    "stats.probplot(log_metrics, dist=\"norm\", plot=plt)\n",
    "plt.title(\"QQ Plot of Log10-Transformed Metrics\")\n",
    "plt.show()"
   ]
  },
  {
   "cell_type": "code",
   "execution_count": 181,
   "id": "b430cc4b-c3aa-4dfa-81d3-91b1ba7f0ff1",
   "metadata": {},
   "outputs": [
    {
     "data": {
      "image/png": "[encoded data removed]",
      "text/plain": [
       "<Figure size 1000x500 with 1 Axes>"
      ]
     },
     "metadata": {},
     "output_type": "display_data"
    }
   ],
   "source": [
    "import matplotlib.pyplot as plt\n",
    "\n",
    "# Names and values\n",
    "metric_names = list(metrics.keys())\n",
    "metric_vals = list(metrics.values())\n",
    "\n",
    "# Bar plot\n",
    "plt.figure(figsize=(10, 5))\n",
    "plt.barh(metric_names, metric_vals, color='steelblue')\n",
    "plt.title(\"Model Evaluation Metrics\")\n",
    "plt.xlabel(\"Value\")\n",
    "plt.grid(True, axis='x')\n",
    "plt.tight_layout()\n",
    "plt.show()"
   ]
  },
  {
   "cell_type": "code",
   "execution_count": 183,
   "id": "db2e4598-bd32-45d7-b52d-de24175b3dca",
   "metadata": {},
   "outputs": [],
   "source": [
    "# Save the model\n",
    "loan_amount_predictor.save('loan_amount_predictor_model')"
   ]
  },
  {
   "cell_type": "markdown",
   "id": "112ca4a8-3e09-40dd-8193-a7169bbc5370",
   "metadata": {},
   "source": [
    "## Conclusion\r\n",
    "\r\n",
    "In this notebook, we used AutoGluon to build a regression model that predicts the `LoanAmount` based on features like `ApplicantIncome_Annual`, `CoapplicantIncome_Annual`, etc. The model was evaluated using the test data, and its performance was assessed.\r\n",
    "\r\n",
    "AutoGluon provided an easy and efficient way to train and evaluate the model with minimal manual effort. The model’s performance can be improved further by tuning hyperparameters or incorporating additional features.\r\n"
   ]
  },
  {
   "cell_type": "code",
   "execution_count": null,
   "id": "1f11dec9-cc0c-4aca-9bc2-3562baf9d0b8",
   "metadata": {},
   "outputs": [],
   "source": []
  }
 ],
 "metadata": {
  "kernelspec": {
   "display_name": "Python 3 (ipykernel)",
   "language": "python",
   "name": "python3"
  },
  "language_info": {
   "codemirror_mode": {
    "name": "ipython",
    "version": 3
   },
   "file_extension": ".py",
   "mimetype": "text/x-python",
   "name": "python",
   "nbconvert_exporter": "python",
   "pygments_lexer": "ipython3",
   "version": "3.12.4"
  }
 },
 "nbformat": 4,
 "nbformat_minor": 5
}
